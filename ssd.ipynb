{
  "nbformat": 4,
  "nbformat_minor": 0,
  "metadata": {
    "colab": {
      "provenance": [],
      "gpuType": "T4",
      "authorship_tag": "ABX9TyNS9mEHqeeEalmg0y4+kZnC",
      "include_colab_link": true
    },
    "kernelspec": {
      "name": "python3",
      "display_name": "Python 3"
    },
    "language_info": {
      "name": "python"
    },
    "accelerator": "GPU",
    "gpuClass": "standard"
  },
  "cells": [
    {
      "cell_type": "markdown",
      "metadata": {
        "id": "view-in-github",
        "colab_type": "text"
      },
      "source": [
        "<a href=\"https://colab.research.google.com/github/Thiruvikraman07/AreaDetection/blob/main/ssd.ipynb\" target=\"_parent\"><img src=\"https://colab.research.google.com/assets/colab-badge.svg\" alt=\"Open In Colab\"/></a>"
      ]
    },
    {
      "cell_type": "code",
      "source": [
        "!pip install roboflow\n",
        "\n",
        "from roboflow import Roboflow\n",
        "rf = Roboflow(api_key=\"um9cTmvGD5l6LS1PMPBn\")\n",
        "project = rf.workspace(\"ptstry\").project(\"boar-detection\")\n",
        "dataset = project.version(5).download(\"voc\")"
      ],
      "metadata": {
        "id": "IOVhtQCmEOZp"
      },
      "execution_count": null,
      "outputs": []
    },
    {
      "cell_type": "code",
      "source": [
        "import os\n",
        "import glob\n",
        "import xml.etree.ElementTree as ET\n",
        "import pandas as pd\n",
        "import tensorflow as tf"
      ],
      "metadata": {
        "id": "hfu8yPDmEUvD"
      },
      "execution_count": 2,
      "outputs": []
    },
    {
      "cell_type": "code",
      "source": [
        "!git clone --q https://github.com/tensorflow/models.git"
      ],
      "metadata": {
        "id": "JqaxCzciEvnX"
      },
      "execution_count": 3,
      "outputs": []
    },
    {
      "cell_type": "code",
      "source": [
        "%cd models/research"
      ],
      "metadata": {
        "colab": {
          "base_uri": "https://localhost:8080/"
        },
        "id": "RQwKPvohFiaj",
        "outputId": "44f294bf-2e09-4a97-f4ec-9191f79239bb"
      },
      "execution_count": 4,
      "outputs": [
        {
          "output_type": "stream",
          "name": "stdout",
          "text": [
            "/content/models/research\n"
          ]
        }
      ]
    },
    {
      "cell_type": "code",
      "source": [
        "!protoc object_detection/protos/*.proto --python_out=."
      ],
      "metadata": {
        "id": "A2Go96ESFpjB"
      },
      "execution_count": 5,
      "outputs": []
    },
    {
      "cell_type": "code",
      "source": [
        "!cp object_detection/packages/tf2/setup.py ."
      ],
      "metadata": {
        "id": "E0NF915DFrY4"
      },
      "execution_count": 6,
      "outputs": []
    },
    {
      "cell_type": "code",
      "source": [
        "!python -m pip install ."
      ],
      "metadata": {
        "colab": {
          "base_uri": "https://localhost:8080/"
        },
        "id": "SJ_vyQW4Fuej",
        "outputId": "a802d727-dc0e-4322-aa42-590719f27c47"
      },
      "execution_count": 7,
      "outputs": [
        {
          "output_type": "stream",
          "name": "stdout",
          "text": [
            "Successfully installed apache-beam-2.47.0 avro-python3-1.10.2 colorama-0.4.6 crcmod-1.7 dill-0.3.1.1 dnspython-2.3.0 docopt-0.6.2 fastavro-1.7.4 fasteners-0.18 hdfs-2.7.0 immutabledict-2.2.4 lvis-0.5.3 numpy-1.23.5 object-detection-0.1 objsize-0.6.1 orjson-3.8.12 portalocker-2.7.0 pymongo-4.3.3 pyyaml-5.4.1 sacrebleu-2.2.0 sentencepiece-0.1.99 seqeval-1.2.2 tensorflow-addons-0.20.0 tensorflow-model-optimization-0.7.4 tensorflow-text-2.12.1 tensorflow_io-0.32.0 tf-models-official-2.12.0 typeguard-2.13.3 zstandard-0.21.0\n"
          ]
        }
      ]
    },
    {
      "cell_type": "code",
      "source": [
        "!python object_detection/builders/model_builder_tf2_test.py"
      ],
      "metadata": {
        "id": "rWwZ2uMRFxDn"
      },
      "execution_count": null,
      "outputs": []
    },
    {
      "cell_type": "code",
      "source": [
        "def xml_to_csv(path):\n",
        "  classes_names = []\n",
        "  xml_list = []\n",
        "\n",
        "  for xml_file in glob.glob(path + '/*.xml'):\n",
        "    tree = ET.parse(xml_file)\n",
        "    root = tree.getroot()\n",
        "    for member in root.findall('object'):\n",
        "      \n",
        "      value = (root.find('filename').text,\n",
        "                 int(root.find('size').find('width').text),\n",
        "                 int(root.find('size').find('height').text),\n",
        "                 member[0].text,\n",
        "                 int(member.find(\"bndbox\").find('xmin').text),\n",
        "                 int(member.find(\"bndbox\").find('ymin').text),\n",
        "                 int(member.find(\"bndbox\").find('xmax').text),\n",
        "                 int(member.find(\"bndbox\").find('ymax').text)\n",
        "                )\n",
        "      xml_list.append(value)\n",
        "  column_name = ['filename', 'width', 'height', 'class', 'xmin', 'ymin', 'xmax', 'ymax']\n",
        "  xml_df = pd.DataFrame(xml_list, columns=column_name) \n",
        "  classes_names = list(set(classes_names))\n",
        "  classes_names.sort()\n",
        "  return xml_df, classes_names\n",
        "\n",
        "for label_path in ['/content/Boar-Detection-5/train', '/content/Boar-Detection-5/test']:\n",
        "  image_path = os.path.join(os.getcwd(), label_path)\n",
        "  xml_df, classes = xml_to_csv(label_path)\n",
        "  xml_df.to_csv(f'{label_path}.csv', index=None)\n",
        "  print(f'Successfully converted {label_path} xml to csv.')\n",
        "\n",
        "label_map_path = os.path.join(\"/content/customTF2/label_map.pbtxt\")\n",
        "pbtxt_content = \"\"\n",
        "\n",
        "for i, class_name in enumerate(classes):\n",
        "    pbtxt_content = (\n",
        "        pbtxt_content\n",
        "        + \"item {{\\n    id: {0}\\n    name: '{1}'\\n}}\\n\\n\".format(i + 1, class_name)\n",
        "    )\n",
        "pbtxt_content = pbtxt_content.strip()\n",
        "with open(label_map_path, \"w\") as f:\n",
        "    f.write(pbtxt_content)\n",
        "    print('Successfully created label_map.pbtxt ')"
      ],
      "metadata": {
        "colab": {
          "base_uri": "https://localhost:8080/"
        },
        "id": "yudHfvdFF9wd",
        "outputId": "e1402ef5-1287-42a9-a769-c5ff16de8b3a"
      },
      "execution_count": 10,
      "outputs": [
        {
          "output_type": "stream",
          "name": "stdout",
          "text": [
            "Successfully converted /content/Boar-Detection-5/train xml to csv.\n",
            "Successfully converted /content/Boar-Detection-5/test xml to csv.\n",
            "Successfully created label_map.pbtxt \n"
          ]
        }
      ]
    },
    {
      "cell_type": "code",
      "source": [
        "!python /content/customTF2/generate_tfrecord.py /content/Boar-Detection-5/train.csv  /content/customTF2/label_map.pbtxt /content/Boar-Detection-5/train /content/customTF2/train.record"
      ],
      "metadata": {
        "colab": {
          "base_uri": "https://localhost:8080/"
        },
        "id": "8hlFuSGFGfqc",
        "outputId": "645d0c82-20cb-49ea-8628-c777277c31d2"
      },
      "execution_count": 19,
      "outputs": [
        {
          "output_type": "stream",
          "name": "stdout",
          "text": [
            "2023-05-17 14:33:38.105296: W tensorflow/compiler/tf2tensorrt/utils/py_utils.cc:38] TF-TRT Warning: Could not find TensorRT\n",
            "groups: 100% 3968/3968 [00:03<00:00, 1116.08it/s]\n",
            "Successfully created the TFRecords: /content/customTF2/train.record\n"
          ]
        }
      ]
    },
    {
      "cell_type": "code",
      "source": [
        "!python /content/customTF2/generate_tfrecord.py /content/Boar-Detection-5/test.csv  /content/customTF2/label_map.pbtxt /content/Boar-Detection-5/test /content/customTF2/test.record"
      ],
      "metadata": {
        "colab": {
          "base_uri": "https://localhost:8080/"
        },
        "id": "pV-8C4RLHZOh",
        "outputId": "b629d460-85c8-45b3-80f0-55bd7951245c"
      },
      "execution_count": 20,
      "outputs": [
        {
          "output_type": "stream",
          "name": "stdout",
          "text": [
            "2023-05-17 14:34:45.281571: W tensorflow/compiler/tf2tensorrt/utils/py_utils.cc:38] TF-TRT Warning: Could not find TensorRT\n",
            "groups: 100% 190/190 [00:00<00:00, 1040.18it/s]\n",
            "Successfully created the TFRecords: /content/customTF2/test.record\n"
          ]
        }
      ]
    },
    {
      "cell_type": "code",
      "source": [
        "!wget http://download.tensorflow.org/models/object_detection/tf2/20200711/ssd_mobilenet_v2_fpnlite_320x320_coco17_tpu-8.tar.gz"
      ],
      "metadata": {
        "colab": {
          "base_uri": "https://localhost:8080/"
        },
        "id": "69sCWg6kInO1",
        "outputId": "7bd427fd-8257-4d5b-98bf-0504d19a6f95"
      },
      "execution_count": 21,
      "outputs": [
        {
          "output_type": "stream",
          "name": "stdout",
          "text": [
            "--2023-05-17 14:35:37--  http://download.tensorflow.org/models/object_detection/tf2/20200711/ssd_mobilenet_v2_fpnlite_320x320_coco17_tpu-8.tar.gz\n",
            "Resolving download.tensorflow.org (download.tensorflow.org)... 74.125.201.128, 2607:f8b0:4001:c5f::80\n",
            "Connecting to download.tensorflow.org (download.tensorflow.org)|74.125.201.128|:80... connected.\n",
            "HTTP request sent, awaiting response... 200 OK\n",
            "Length: 20515344 (20M) [application/x-tar]\n",
            "Saving to: ‘ssd_mobilenet_v2_fpnlite_320x320_coco17_tpu-8.tar.gz’\n",
            "\n",
            "ssd_mobilenet_v2_fp 100%[===================>]  19.56M  63.0MB/s    in 0.3s    \n",
            "\n",
            "2023-05-17 14:35:38 (63.0 MB/s) - ‘ssd_mobilenet_v2_fpnlite_320x320_coco17_tpu-8.tar.gz’ saved [20515344/20515344]\n",
            "\n"
          ]
        }
      ]
    },
    {
      "cell_type": "code",
      "source": [
        "!tar -xzvf ssd_mobilenet_v2_fpnlite_320x320_coco17_tpu-8.tar.gz"
      ],
      "metadata": {
        "colab": {
          "base_uri": "https://localhost:8080/"
        },
        "id": "NCbSG9jxI0Rk",
        "outputId": "c4a09c2d-0ebd-427b-c183-cb8d827ab45e"
      },
      "execution_count": 22,
      "outputs": [
        {
          "output_type": "stream",
          "name": "stdout",
          "text": [
            "ssd_mobilenet_v2_fpnlite_320x320_coco17_tpu-8/\n",
            "ssd_mobilenet_v2_fpnlite_320x320_coco17_tpu-8/checkpoint/\n",
            "ssd_mobilenet_v2_fpnlite_320x320_coco17_tpu-8/checkpoint/ckpt-0.data-00000-of-00001\n",
            "ssd_mobilenet_v2_fpnlite_320x320_coco17_tpu-8/checkpoint/checkpoint\n",
            "ssd_mobilenet_v2_fpnlite_320x320_coco17_tpu-8/checkpoint/ckpt-0.index\n",
            "ssd_mobilenet_v2_fpnlite_320x320_coco17_tpu-8/pipeline.config\n",
            "ssd_mobilenet_v2_fpnlite_320x320_coco17_tpu-8/saved_model/\n",
            "ssd_mobilenet_v2_fpnlite_320x320_coco17_tpu-8/saved_model/saved_model.pb\n",
            "ssd_mobilenet_v2_fpnlite_320x320_coco17_tpu-8/saved_model/variables/\n",
            "ssd_mobilenet_v2_fpnlite_320x320_coco17_tpu-8/saved_model/variables/variables.data-00000-of-00001\n",
            "ssd_mobilenet_v2_fpnlite_320x320_coco17_tpu-8/saved_model/variables/variables.index\n"
          ]
        }
      ]
    },
    {
      "cell_type": "code",
      "source": [
        "!cd /usr/local/lib/python3.10/dist-packages/tensorflow && git clone https://github.com/tensorflow/models"
      ],
      "metadata": {
        "colab": {
          "base_uri": "https://localhost:8080/"
        },
        "id": "pINEBGMiI4PV",
        "outputId": "2f747d7d-9c21-4b7c-aa83-57c1652ff55f"
      },
      "execution_count": 25,
      "outputs": [
        {
          "output_type": "stream",
          "name": "stdout",
          "text": [
            "Cloning into 'models'...\n",
            "remote: Enumerating objects: 85527, done.\u001b[K\n",
            "remote: Counting objects: 100% (1126/1126), done.\u001b[K\n",
            "remote: Compressing objects: 100% (470/470), done.\u001b[K\n",
            "remote: Total 85527 (delta 690), reused 1053 (delta 650), pack-reused 84401\u001b[K\n",
            "Receiving objects: 100% (85527/85527), 598.64 MiB | 24.77 MiB/s, done.\n",
            "Resolving deltas: 100% (61192/61192), done.\n"
          ]
        }
      ]
    },
    {
      "cell_type": "code",
      "source": [
        "!mv ssd_mobilenet_v2_fpnlite_320x320_coco17_tpu-8.tar.gz /content/Pre-trained"
      ],
      "metadata": {
        "id": "w2xoP7OmK2Fb"
      },
      "execution_count": 26,
      "outputs": []
    },
    {
      "cell_type": "code",
      "source": [
        "!cd /content/Pre-trained && tar -zxvf ssd_mobilenet_v2_fpnlite_320x320_coco17_tpu-8.tar.gz"
      ],
      "metadata": {
        "colab": {
          "base_uri": "https://localhost:8080/"
        },
        "id": "9Jbwav5UK-IL",
        "outputId": "ad1288b4-5743-4a5d-e932-94a89f9f9c35"
      },
      "execution_count": 27,
      "outputs": [
        {
          "output_type": "stream",
          "name": "stdout",
          "text": [
            "ssd_mobilenet_v2_fpnlite_320x320_coco17_tpu-8/\n",
            "ssd_mobilenet_v2_fpnlite_320x320_coco17_tpu-8/checkpoint/\n",
            "ssd_mobilenet_v2_fpnlite_320x320_coco17_tpu-8/checkpoint/ckpt-0.data-00000-of-00001\n",
            "ssd_mobilenet_v2_fpnlite_320x320_coco17_tpu-8/checkpoint/checkpoint\n",
            "ssd_mobilenet_v2_fpnlite_320x320_coco17_tpu-8/checkpoint/ckpt-0.index\n",
            "ssd_mobilenet_v2_fpnlite_320x320_coco17_tpu-8/pipeline.config\n",
            "ssd_mobilenet_v2_fpnlite_320x320_coco17_tpu-8/saved_model/\n",
            "ssd_mobilenet_v2_fpnlite_320x320_coco17_tpu-8/saved_model/saved_model.pb\n",
            "ssd_mobilenet_v2_fpnlite_320x320_coco17_tpu-8/saved_model/variables/\n",
            "ssd_mobilenet_v2_fpnlite_320x320_coco17_tpu-8/saved_model/variables/variables.data-00000-of-00001\n",
            "ssd_mobilenet_v2_fpnlite_320x320_coco17_tpu-8/saved_model/variables/variables.index\n"
          ]
        }
      ]
    },
    {
      "cell_type": "code",
      "source": [
        "import tensorflow as tf\n",
        "from object_detection.utils import config_util\n",
        "from object_detection.protos import pipeline_pb2\n",
        "from google.protobuf import text_format"
      ],
      "metadata": {
        "id": "h9gwJnRPLbw3"
      },
      "execution_count": 28,
      "outputs": []
    },
    {
      "cell_type": "code",
      "source": [
        "CONFIG_PATH = '/content/Pre-trained/ssd_mobilenet_v2_fpnlite_320x320_coco17_tpu-8/pipeline.config'"
      ],
      "metadata": {
        "id": "OBJ_cyklLkAF"
      },
      "execution_count": 29,
      "outputs": []
    },
    {
      "cell_type": "code",
      "source": [
        "config = config_util.get_configs_from_pipeline_file(CONFIG_PATH)"
      ],
      "metadata": {
        "id": "-zyr4TJULtvx"
      },
      "execution_count": 30,
      "outputs": []
    },
    {
      "cell_type": "code",
      "source": [
        "config"
      ],
      "metadata": {
        "id": "kLrO-C_cLwRi"
      },
      "execution_count": null,
      "outputs": []
    },
    {
      "cell_type": "code",
      "source": [
        "pipeline_config = pipeline_pb2.TrainEvalPipelineConfig()\n",
        "with tf.io.gfile.GFile(CONFIG_PATH, \"r\") as f:                                                                                                                                                                                                                     \n",
        "    proto_str = f.read()                                                                                                                                                                                                                                          \n",
        "    text_format.Merge(proto_str, pipeline_config)  "
      ],
      "metadata": {
        "id": "r3JSUxZxLyGL"
      },
      "execution_count": 32,
      "outputs": []
    },
    {
      "cell_type": "code",
      "source": [
        "pipeline_config.model.ssd.num_classes = 1\n",
        "pipeline_config.train_config.batch_size = 4\n",
        "pipeline_config.train_config.fine_tune_checkpoint = '/content/Pre-trained'+'/ssd_mobilenet_v2_fpnlite_320x320_coco17_tpu-8/checkpoint/ckpt-0'\n",
        "pipeline_config.train_config.fine_tune_checkpoint_type = \"detection\"\n",
        "pipeline_config.train_input_reader.label_map_path= '/content/customTF2/label_map.pbtxt'\n",
        "pipeline_config.train_input_reader.tf_record_input_reader.input_path[:] = ['/content/customTF2/train.record']\n",
        "pipeline_config.eval_input_reader[0].label_map_path = '/content/customTF2/label_map.pbtxt'\n",
        "pipeline_config.eval_input_reader[0].tf_record_input_reader.input_path[:] = ['/content/customTF2/test.record']"
      ],
      "metadata": {
        "id": "lpzvfFgYL7cE"
      },
      "execution_count": 34,
      "outputs": []
    },
    {
      "cell_type": "code",
      "source": [
        "config_text = text_format.MessageToString(pipeline_config)                                                                                                                                                                                                        \n",
        "with tf.io.gfile.GFile(CONFIG_PATH, \"wb\") as f:                                                                                                                                                                                                                     \n",
        "    f.write(config_text)   "
      ],
      "metadata": {
        "id": "9K48MOQGMT3f"
      },
      "execution_count": 35,
      "outputs": []
    },
    {
      "cell_type": "code",
      "source": [
        "!pip show tensorflow"
      ],
      "metadata": {
        "colab": {
          "base_uri": "https://localhost:8080/"
        },
        "id": "msTeb4tTSJ-s",
        "outputId": "5feae276-f223-41bb-bef9-01f24d5a8efd"
      },
      "execution_count": 53,
      "outputs": [
        {
          "output_type": "stream",
          "name": "stdout",
          "text": [
            "Name: tensorflow\n",
            "Version: 2.12.0\n",
            "Summary: TensorFlow is an open source machine learning framework for everyone.\n",
            "Home-page: https://www.tensorflow.org/\n",
            "Author: Google Inc.\n",
            "Author-email: packages@tensorflow.org\n",
            "License: Apache 2.0\n",
            "Location: /usr/local/lib/python3.10/dist-packages\n",
            "Requires: absl-py, astunparse, flatbuffers, gast, google-pasta, grpcio, h5py, jax, keras, libclang, numpy, opt-einsum, packaging, protobuf, setuptools, six, tensorboard, tensorflow-estimator, tensorflow-io-gcs-filesystem, termcolor, typing-extensions, wrapt\n",
            "Required-by: dopamine-rl, object-detection, tensorflow-text, tf-models-official\n"
          ]
        }
      ]
    },
    {
      "cell_type": "code",
      "source": [
        "WORKSPACE_PATH = 'usr/local/lib/python3.10/dist-packages/tensorflow/workspace'\n",
        "SCRIPTS_PATH = 'usr/local/lib/python3.10/dist-packages/tensorflow/scripts'\n",
        "APIMODEL_PATH = 'usr/local/lib/python3.10/dist-packages/tensorflow/models'\n",
        "ANNOTATION_PATH = WORKSPACE_PATH+'/annotations'\n",
        "IMAGE_PATH = WORKSPACE_PATH+'/images'\n",
        "MODEL_PATH = WORKSPACE_PATH+'/models'\n",
        "CUSTOM_MODEL_NAME = 'my_ssd_mobnet'"
      ],
      "metadata": {
        "id": "qlUboyjISXkr"
      },
      "execution_count": 55,
      "outputs": []
    },
    {
      "cell_type": "code",
      "source": [
        "print(\"\"\"python {}/research/object_detection/model_main_tf2.py --model_dir={}/{} --pipeline_config_path={}/{}/pipeline.config --num_train_steps=5000\"\"\".format('/content/models', MODEL_PATH,CUSTOM_MODEL_NAME,MODEL_PATH,CUSTOM_MODEL_NAME))\n"
      ],
      "metadata": {
        "colab": {
          "base_uri": "https://localhost:8080/"
        },
        "id": "V7gjcrSsRZgO",
        "outputId": "e7722134-5212-42b7-d07d-875d359716ff"
      },
      "execution_count": 56,
      "outputs": [
        {
          "output_type": "stream",
          "name": "stdout",
          "text": [
            "python /content/models/research/object_detection/model_main_tf2.py --model_dir=usr/local/lib/python3.10/dist-packages/tensorflow/workspace/models/my_ssd_mobnet --pipeline_config_path=usr/local/lib/python3.10/dist-packages/tensorflow/workspace/models/my_ssd_mobnet/pipeline.config --num_train_steps=5000\n"
          ]
        }
      ]
    },
    {
      "cell_type": "code",
      "source": [
        "!cp object_detection/packages/tf2/setup.py .\n",
        "!python3 -m pip install --user --use-feature=2020-resolver ."
      ],
      "metadata": {
        "colab": {
          "base_uri": "https://localhost:8080/"
        },
        "id": "8aWBehfkS1Lh",
        "outputId": "fcc9f509-a9a3-4bb5-9433-d4f5ace71b67"
      },
      "execution_count": 58,
      "outputs": [
        {
          "output_type": "stream",
          "name": "stdout",
          "text": [
            "\n",
            "Usage:   \n",
            "  /usr/bin/python3 -m pip install [options] <requirement specifier> [package-index-options] ...\n",
            "  /usr/bin/python3 -m pip install [options] -r <requirements file> [package-index-options] ...\n",
            "  /usr/bin/python3 -m pip install [options] [-e] <vcs project url> ...\n",
            "  /usr/bin/python3 -m pip install [options] [-e] <local project path> ...\n",
            "  /usr/bin/python3 -m pip install [options] <archive url/path> ...\n",
            "\n",
            "option --use-feature: invalid choice: '2020-resolver' (choose from 'fast-deps', 'truststore', 'no-binary-enable-wheel-cache')\n"
          ]
        }
      ]
    },
    {
      "cell_type": "code",
      "source": [
        "!pip show object_detection\n"
      ],
      "metadata": {
        "colab": {
          "base_uri": "https://localhost:8080/"
        },
        "id": "2MbycSqcWa-e",
        "outputId": "a248d202-8419-425c-9384-635aef0894f2"
      },
      "execution_count": 63,
      "outputs": [
        {
          "output_type": "stream",
          "name": "stdout",
          "text": [
            "Name: object-detection\n",
            "Version: 0.0.3\n",
            "Summary: A package build from Tensorflow's object detection API.\n",
            "Home-page: https://github.com/brandonschabell/models/tree/master/research/object_detection\n",
            "Author: Brandon Schabell\n",
            "Author-email: brandonschabell@gmail.com\n",
            "License: Apache License 2.0\n",
            "Location: /usr/local/lib/python3.10/dist-packages\n",
            "Requires: contextlib2, Cython, jupyter, lxml, matplotlib, pillow, tensorflow\n",
            "Required-by: \n"
          ]
        }
      ]
    },
    {
      "cell_type": "code",
      "source": [
        "%cd content/models/research"
      ],
      "metadata": {
        "colab": {
          "base_uri": "https://localhost:8080/"
        },
        "id": "NrHLsqFgXWYS",
        "outputId": "975818eb-2564-49e3-be6c-32e8f7c7d20a"
      },
      "execution_count": 67,
      "outputs": [
        {
          "output_type": "stream",
          "name": "stdout",
          "text": [
            "[Errno 2] No such file or directory: 'content/models/research'\n",
            "/content/models/research\n"
          ]
        }
      ]
    },
    {
      "cell_type": "code",
      "source": [
        "!protoc object_detection/protos/*.proto --python_out=. "
      ],
      "metadata": {
        "id": "3X9rmWq7XgkH"
      },
      "execution_count": 68,
      "outputs": []
    },
    {
      "cell_type": "code",
      "source": [
        "!cp object_detection/packages/tf2/setup.py .\n",
        "!python -m pip install ."
      ],
      "metadata": {
        "colab": {
          "base_uri": "https://localhost:8080/"
        },
        "id": "U17p7G4ZXnwm",
        "outputId": "5dc72251-955b-4243-be38-9c467b52db0d"
      },
      "execution_count": 70,
      "outputs": [
        {
          "output_type": "stream",
          "name": "stdout",
          "text": [
            "  Building wheel for object-detection (setup.py) ... \u001b[?25l\u001b[?25hdone\n",
            "  Created wheel for object-detection: filename=object_detection-0.1-py3-none-any.whl size=1696978 sha256=93cf2fb7510addf14f7ce99b814e0f52b1939605f93fefd1dfcc1aa32d619534\n",
            "  Stored in directory: /tmp/pip-ephem-wheel-cache-mhif6ikm/wheels/53/dd/70/2de274d6c443c69d367bd6a5606f95e5a6df61aacf1435ec0d\n",
            "Successfully built object-detection\n",
            "Installing collected packages: object-detection\n",
            "  Attempting uninstall: object-detection\n",
            "    Found existing installation: object-detection 0.0.3\n",
            "    Uninstalling object-detection-0.0.3:\n",
            "      Successfully uninstalled object-detection-0.0.3\n",
            "Successfully installed object-detection-0.1\n"
          ]
        }
      ]
    },
    {
      "cell_type": "code",
      "source": [
        "!python /content/models/research/object_detection/model_main_tf2.py --model_dir=usr/local/lib/python3.10/dist-packages/tensorflow/workspace/models/my_ssd_mobnet --pipeline_config_path=/content/Pre-trained/ssd_mobilenet_v2_fpnlite_320x320_coco17_tpu-8/pipeline.config --num_train_steps=5000\n"
      ],
      "metadata": {
        "colab": {
          "base_uri": "https://localhost:8080/"
        },
        "id": "oNUSQdbjSlwP",
        "outputId": "68e661de-dfa2-44ee-8bd3-1f8f29644a8b"
      },
      "execution_count": null,
      "outputs": [
        {
          "output_type": "stream",
          "name": "stdout",
          "text": [
            "2023-05-17 15:41:59.863639: W tensorflow/compiler/tf2tensorrt/utils/py_utils.cc:38] TF-TRT Warning: Could not find TensorRT\n",
            "/usr/local/lib/python3.10/dist-packages/tensorflow_addons/utils/tfa_eol_msg.py:23: UserWarning: \n",
            "\n",
            "TensorFlow Addons (TFA) has ended development and introduction of new features.\n",
            "TFA has entered a minimal maintenance and release mode until a planned end of life in May 2024.\n",
            "Please modify downstream libraries to take dependencies from other repositories in our TensorFlow community (e.g. Keras, Keras-CV, and Keras-NLP). \n",
            "\n",
            "For more information see: https://github.com/tensorflow/addons/issues/2807 \n",
            "\n",
            "  warnings.warn(\n",
            "2023-05-17 15:42:03.228434: W tensorflow/core/common_runtime/gpu/gpu_bfc_allocator.cc:47] Overriding orig_value setting because the TF_FORCE_GPU_ALLOW_GROWTH environment variable is set. Original config value was 0.\n",
            "INFO:tensorflow:Using MirroredStrategy with devices ('/job:localhost/replica:0/task:0/device:GPU:0',)\n",
            "I0517 15:42:03.248091 139852702287680 mirrored_strategy.py:374] Using MirroredStrategy with devices ('/job:localhost/replica:0/task:0/device:GPU:0',)\n",
            "INFO:tensorflow:Maybe overwriting train_steps: 5000\n",
            "I0517 15:42:03.251671 139852702287680 config_util.py:552] Maybe overwriting train_steps: 5000\n",
            "INFO:tensorflow:Maybe overwriting use_bfloat16: False\n",
            "I0517 15:42:03.251824 139852702287680 config_util.py:552] Maybe overwriting use_bfloat16: False\n",
            "WARNING:tensorflow:From /content/models/research/object_detection/model_lib_v2.py:563: StrategyBase.experimental_distribute_datasets_from_function (from tensorflow.python.distribute.distribute_lib) is deprecated and will be removed in a future version.\n",
            "Instructions for updating:\n",
            "rename to distribute_datasets_from_function\n",
            "W0517 15:42:03.434917 139852702287680 deprecation.py:364] From /content/models/research/object_detection/model_lib_v2.py:563: StrategyBase.experimental_distribute_datasets_from_function (from tensorflow.python.distribute.distribute_lib) is deprecated and will be removed in a future version.\n",
            "Instructions for updating:\n",
            "rename to distribute_datasets_from_function\n",
            "INFO:tensorflow:Reading unweighted datasets: ['/content/customTF2/train.record']\n",
            "I0517 15:42:03.448717 139852702287680 dataset_builder.py:162] Reading unweighted datasets: ['/content/customTF2/train.record']\n",
            "INFO:tensorflow:Reading record datasets for input file: ['/content/customTF2/train.record']\n",
            "I0517 15:42:03.448899 139852702287680 dataset_builder.py:79] Reading record datasets for input file: ['/content/customTF2/train.record']\n",
            "INFO:tensorflow:Number of filenames to read: 1\n",
            "I0517 15:42:03.448984 139852702287680 dataset_builder.py:80] Number of filenames to read: 1\n",
            "WARNING:tensorflow:num_readers has been reduced to 1 to match input file shards.\n",
            "W0517 15:42:03.449058 139852702287680 dataset_builder.py:86] num_readers has been reduced to 1 to match input file shards.\n",
            "WARNING:tensorflow:From /usr/local/lib/python3.10/dist-packages/object_detection/builders/dataset_builder.py:100: parallel_interleave (from tensorflow.python.data.experimental.ops.interleave_ops) is deprecated and will be removed in a future version.\n",
            "Instructions for updating:\n",
            "Use `tf.data.Dataset.interleave(map_func, cycle_length, block_length, num_parallel_calls=tf.data.AUTOTUNE)` instead. If sloppy execution is desired, use `tf.data.Options.deterministic`.\n",
            "W0517 15:42:03.463525 139852702287680 deprecation.py:364] From /usr/local/lib/python3.10/dist-packages/object_detection/builders/dataset_builder.py:100: parallel_interleave (from tensorflow.python.data.experimental.ops.interleave_ops) is deprecated and will be removed in a future version.\n",
            "Instructions for updating:\n",
            "Use `tf.data.Dataset.interleave(map_func, cycle_length, block_length, num_parallel_calls=tf.data.AUTOTUNE)` instead. If sloppy execution is desired, use `tf.data.Options.deterministic`.\n",
            "WARNING:tensorflow:From /usr/local/lib/python3.10/dist-packages/object_detection/builders/dataset_builder.py:235: DatasetV1.map_with_legacy_function (from tensorflow.python.data.ops.dataset_ops) is deprecated and will be removed in a future version.\n",
            "Instructions for updating:\n",
            "Use `tf.data.Dataset.map()\n",
            "W0517 15:42:03.486369 139852702287680 deprecation.py:364] From /usr/local/lib/python3.10/dist-packages/object_detection/builders/dataset_builder.py:235: DatasetV1.map_with_legacy_function (from tensorflow.python.data.ops.dataset_ops) is deprecated and will be removed in a future version.\n",
            "Instructions for updating:\n",
            "Use `tf.data.Dataset.map()\n",
            "WARNING:tensorflow:From /usr/local/lib/python3.10/dist-packages/tensorflow/python/util/dispatch.py:1176: sparse_to_dense (from tensorflow.python.ops.sparse_ops) is deprecated and will be removed in a future version.\n",
            "Instructions for updating:\n",
            "Create a `tf.sparse.SparseTensor` and use `tf.sparse.to_dense` instead.\n",
            "W0517 15:42:12.495502 139852702287680 deprecation.py:364] From /usr/local/lib/python3.10/dist-packages/tensorflow/python/util/dispatch.py:1176: sparse_to_dense (from tensorflow.python.ops.sparse_ops) is deprecated and will be removed in a future version.\n",
            "Instructions for updating:\n",
            "Create a `tf.sparse.SparseTensor` and use `tf.sparse.to_dense` instead.\n",
            "WARNING:tensorflow:From /usr/local/lib/python3.10/dist-packages/tensorflow/python/util/dispatch.py:1176: sample_distorted_bounding_box (from tensorflow.python.ops.image_ops_impl) is deprecated and will be removed in a future version.\n",
            "Instructions for updating:\n",
            "`seed2` arg is deprecated.Use sample_distorted_bounding_box_v2 instead.\n",
            "W0517 15:42:15.967806 139852702287680 deprecation.py:364] From /usr/local/lib/python3.10/dist-packages/tensorflow/python/util/dispatch.py:1176: sample_distorted_bounding_box (from tensorflow.python.ops.image_ops_impl) is deprecated and will be removed in a future version.\n",
            "Instructions for updating:\n",
            "`seed2` arg is deprecated.Use sample_distorted_bounding_box_v2 instead.\n",
            "WARNING:tensorflow:From /usr/local/lib/python3.10/dist-packages/tensorflow/python/util/dispatch.py:1176: to_float (from tensorflow.python.ops.math_ops) is deprecated and will be removed in a future version.\n",
            "Instructions for updating:\n",
            "Use `tf.cast` instead.\n",
            "W0517 15:42:17.422776 139852702287680 deprecation.py:364] From /usr/local/lib/python3.10/dist-packages/tensorflow/python/util/dispatch.py:1176: to_float (from tensorflow.python.ops.math_ops) is deprecated and will be removed in a future version.\n",
            "Instructions for updating:\n",
            "Use `tf.cast` instead.\n",
            "WARNING:tensorflow:From /usr/local/lib/python3.10/dist-packages/object_detection/builders/optimizer_builder.py:124: The name tf.keras.optimizers.SGD is deprecated. Please use tf.keras.optimizers.legacy.SGD instead.\n",
            "\n",
            "W0517 15:42:19.524484 139852702287680 module_wrapper.py:149] From /usr/local/lib/python3.10/dist-packages/object_detection/builders/optimizer_builder.py:124: The name tf.keras.optimizers.SGD is deprecated. Please use tf.keras.optimizers.legacy.SGD instead.\n",
            "\n",
            "/usr/local/lib/python3.10/dist-packages/keras/backend.py:452: UserWarning: `tf.keras.backend.set_learning_phase` is deprecated and will be removed after 2020-10-11. To update it, simply pass a True/False value to the `training` argument of the `__call__` method of your layer or model.\n",
            "  warnings.warn(\n",
            "I0517 15:42:24.447946 139847608039168 api.py:459] feature_map_spatial_dims: [(40, 40), (20, 20), (10, 10), (5, 5), (3, 3)]\n",
            "I0517 15:42:35.584533 139847608039168 api.py:459] feature_map_spatial_dims: [(40, 40), (20, 20), (10, 10), (5, 5), (3, 3)]\n",
            "INFO:tensorflow:Reduce to /job:localhost/replica:0/task:0/device:CPU:0 then broadcast to ('/job:localhost/replica:0/task:0/device:CPU:0',).\n",
            "I0517 15:42:48.299857 139852702287680 cross_device_ops.py:616] Reduce to /job:localhost/replica:0/task:0/device:CPU:0 then broadcast to ('/job:localhost/replica:0/task:0/device:CPU:0',).\n",
            "INFO:tensorflow:Reduce to /job:localhost/replica:0/task:0/device:CPU:0 then broadcast to ('/job:localhost/replica:0/task:0/device:CPU:0',).\n",
            "I0517 15:42:48.304159 139852702287680 cross_device_ops.py:616] Reduce to /job:localhost/replica:0/task:0/device:CPU:0 then broadcast to ('/job:localhost/replica:0/task:0/device:CPU:0',).\n",
            "INFO:tensorflow:Reduce to /job:localhost/replica:0/task:0/device:CPU:0 then broadcast to ('/job:localhost/replica:0/task:0/device:CPU:0',).\n",
            "I0517 15:42:48.305710 139852702287680 cross_device_ops.py:616] Reduce to /job:localhost/replica:0/task:0/device:CPU:0 then broadcast to ('/job:localhost/replica:0/task:0/device:CPU:0',).\n",
            "INFO:tensorflow:Reduce to /job:localhost/replica:0/task:0/device:CPU:0 then broadcast to ('/job:localhost/replica:0/task:0/device:CPU:0',).\n",
            "I0517 15:42:48.308026 139852702287680 cross_device_ops.py:616] Reduce to /job:localhost/replica:0/task:0/device:CPU:0 then broadcast to ('/job:localhost/replica:0/task:0/device:CPU:0',).\n",
            "INFO:tensorflow:Reduce to /job:localhost/replica:0/task:0/device:CPU:0 then broadcast to ('/job:localhost/replica:0/task:0/device:CPU:0',).\n",
            "I0517 15:42:48.313219 139852702287680 cross_device_ops.py:616] Reduce to /job:localhost/replica:0/task:0/device:CPU:0 then broadcast to ('/job:localhost/replica:0/task:0/device:CPU:0',).\n",
            "INFO:tensorflow:Reduce to /job:localhost/replica:0/task:0/device:CPU:0 then broadcast to ('/job:localhost/replica:0/task:0/device:CPU:0',).\n",
            "I0517 15:42:48.314584 139852702287680 cross_device_ops.py:616] Reduce to /job:localhost/replica:0/task:0/device:CPU:0 then broadcast to ('/job:localhost/replica:0/task:0/device:CPU:0',).\n",
            "INFO:tensorflow:Reduce to /job:localhost/replica:0/task:0/device:CPU:0 then broadcast to ('/job:localhost/replica:0/task:0/device:CPU:0',).\n",
            "I0517 15:42:48.315972 139852702287680 cross_device_ops.py:616] Reduce to /job:localhost/replica:0/task:0/device:CPU:0 then broadcast to ('/job:localhost/replica:0/task:0/device:CPU:0',).\n",
            "INFO:tensorflow:Reduce to /job:localhost/replica:0/task:0/device:CPU:0 then broadcast to ('/job:localhost/replica:0/task:0/device:CPU:0',).\n",
            "I0517 15:42:48.317293 139852702287680 cross_device_ops.py:616] Reduce to /job:localhost/replica:0/task:0/device:CPU:0 then broadcast to ('/job:localhost/replica:0/task:0/device:CPU:0',).\n",
            "INFO:tensorflow:Reduce to /job:localhost/replica:0/task:0/device:CPU:0 then broadcast to ('/job:localhost/replica:0/task:0/device:CPU:0',).\n",
            "I0517 15:42:48.323528 139852702287680 cross_device_ops.py:616] Reduce to /job:localhost/replica:0/task:0/device:CPU:0 then broadcast to ('/job:localhost/replica:0/task:0/device:CPU:0',).\n",
            "INFO:tensorflow:Reduce to /job:localhost/replica:0/task:0/device:CPU:0 then broadcast to ('/job:localhost/replica:0/task:0/device:CPU:0',).\n",
            "I0517 15:42:48.324855 139852702287680 cross_device_ops.py:616] Reduce to /job:localhost/replica:0/task:0/device:CPU:0 then broadcast to ('/job:localhost/replica:0/task:0/device:CPU:0',).\n",
            "WARNING:tensorflow:From /usr/local/lib/python3.10/dist-packages/tensorflow/python/util/deprecation.py:648: calling map_fn_v2 (from tensorflow.python.ops.map_fn) with dtype is deprecated and will be removed in a future version.\n",
            "Instructions for updating:\n",
            "Use fn_output_signature instead\n",
            "W0517 15:42:50.115698 139847814313728 deprecation.py:569] From /usr/local/lib/python3.10/dist-packages/tensorflow/python/util/deprecation.py:648: calling map_fn_v2 (from tensorflow.python.ops.map_fn) with dtype is deprecated and will be removed in a future version.\n",
            "Instructions for updating:\n",
            "Use fn_output_signature instead\n",
            "I0517 15:42:51.650776 139847814313728 api.py:459] feature_map_spatial_dims: [(40, 40), (20, 20), (10, 10), (5, 5), (3, 3)]\n",
            "I0517 15:42:58.863304 139847814313728 api.py:459] feature_map_spatial_dims: [(40, 40), (20, 20), (10, 10), (5, 5), (3, 3)]\n",
            "I0517 15:43:03.753751 139847814313728 api.py:459] feature_map_spatial_dims: [(40, 40), (20, 20), (10, 10), (5, 5), (3, 3)]\n",
            "I0517 15:43:10.430916 139847814313728 api.py:459] feature_map_spatial_dims: [(40, 40), (20, 20), (10, 10), (5, 5), (3, 3)]\n",
            "INFO:tensorflow:Step 100 per-step time 0.434s\n",
            "I0517 15:43:32.977844 139852702287680 model_lib_v2.py:705] Step 100 per-step time 0.434s\n",
            "INFO:tensorflow:{'Loss/classification_loss': 0.3712875,\n",
            " 'Loss/localization_loss': 0.5458448,\n",
            " 'Loss/regularization_loss': 0.15498434,\n",
            " 'Loss/total_loss': 1.0721166,\n",
            " 'learning_rate': 0.0319994}\n",
            "I0517 15:43:32.978286 139852702287680 model_lib_v2.py:708] {'Loss/classification_loss': 0.3712875,\n",
            " 'Loss/localization_loss': 0.5458448,\n",
            " 'Loss/regularization_loss': 0.15498434,\n",
            " 'Loss/total_loss': 1.0721166,\n",
            " 'learning_rate': 0.0319994}\n",
            "INFO:tensorflow:Step 200 per-step time 0.074s\n",
            "I0517 15:43:40.334225 139852702287680 model_lib_v2.py:705] Step 200 per-step time 0.074s\n",
            "INFO:tensorflow:{'Loss/classification_loss': 0.22833249,\n",
            " 'Loss/localization_loss': 0.29225636,\n",
            " 'Loss/regularization_loss': 0.15501742,\n",
            " 'Loss/total_loss': 0.6756063,\n",
            " 'learning_rate': 0.0373328}\n",
            "I0517 15:43:40.334607 139852702287680 model_lib_v2.py:708] {'Loss/classification_loss': 0.22833249,\n",
            " 'Loss/localization_loss': 0.29225636,\n",
            " 'Loss/regularization_loss': 0.15501742,\n",
            " 'Loss/total_loss': 0.6756063,\n",
            " 'learning_rate': 0.0373328}\n",
            "INFO:tensorflow:Step 300 per-step time 0.059s\n",
            "I0517 15:43:46.245422 139852702287680 model_lib_v2.py:705] Step 300 per-step time 0.059s\n",
            "INFO:tensorflow:{'Loss/classification_loss': 0.25623143,\n",
            " 'Loss/localization_loss': 0.29922852,\n",
            " 'Loss/regularization_loss': 0.15499952,\n",
            " 'Loss/total_loss': 0.7104595,\n",
            " 'learning_rate': 0.0426662}\n",
            "I0517 15:43:46.245733 139852702287680 model_lib_v2.py:708] {'Loss/classification_loss': 0.25623143,\n",
            " 'Loss/localization_loss': 0.29922852,\n",
            " 'Loss/regularization_loss': 0.15499952,\n",
            " 'Loss/total_loss': 0.7104595,\n",
            " 'learning_rate': 0.0426662}\n",
            "INFO:tensorflow:Step 400 per-step time 0.061s\n",
            "I0517 15:43:52.392819 139852702287680 model_lib_v2.py:705] Step 400 per-step time 0.061s\n",
            "INFO:tensorflow:{'Loss/classification_loss': 0.3796868,\n",
            " 'Loss/localization_loss': 0.45285207,\n",
            " 'Loss/regularization_loss': 0.15503675,\n",
            " 'Loss/total_loss': 0.9875756,\n",
            " 'learning_rate': 0.047999598}\n",
            "I0517 15:43:52.393217 139852702287680 model_lib_v2.py:708] {'Loss/classification_loss': 0.3796868,\n",
            " 'Loss/localization_loss': 0.45285207,\n",
            " 'Loss/regularization_loss': 0.15503675,\n",
            " 'Loss/total_loss': 0.9875756,\n",
            " 'learning_rate': 0.047999598}\n",
            "INFO:tensorflow:Step 500 per-step time 0.074s\n",
            "I0517 15:43:59.792615 139852702287680 model_lib_v2.py:705] Step 500 per-step time 0.074s\n",
            "INFO:tensorflow:{'Loss/classification_loss': 0.28940922,\n",
            " 'Loss/localization_loss': 0.26993454,\n",
            " 'Loss/regularization_loss': 0.15507971,\n",
            " 'Loss/total_loss': 0.7144235,\n",
            " 'learning_rate': 0.053333}\n",
            "I0517 15:43:59.793024 139852702287680 model_lib_v2.py:708] {'Loss/classification_loss': 0.28940922,\n",
            " 'Loss/localization_loss': 0.26993454,\n",
            " 'Loss/regularization_loss': 0.15507971,\n",
            " 'Loss/total_loss': 0.7144235,\n",
            " 'learning_rate': 0.053333}\n",
            "INFO:tensorflow:Step 600 per-step time 0.066s\n",
            "I0517 15:44:06.434430 139852702287680 model_lib_v2.py:705] Step 600 per-step time 0.066s\n",
            "INFO:tensorflow:{'Loss/classification_loss': 0.37743166,\n",
            " 'Loss/localization_loss': 0.4578966,\n",
            " 'Loss/regularization_loss': 0.15515143,\n",
            " 'Loss/total_loss': 0.99047965,\n",
            " 'learning_rate': 0.0586664}\n",
            "I0517 15:44:06.434754 139852702287680 model_lib_v2.py:708] {'Loss/classification_loss': 0.37743166,\n",
            " 'Loss/localization_loss': 0.4578966,\n",
            " 'Loss/regularization_loss': 0.15515143,\n",
            " 'Loss/total_loss': 0.99047965,\n",
            " 'learning_rate': 0.0586664}\n",
            "INFO:tensorflow:Step 700 per-step time 0.058s\n",
            "I0517 15:44:12.244483 139852702287680 model_lib_v2.py:705] Step 700 per-step time 0.058s\n",
            "INFO:tensorflow:{'Loss/classification_loss': 0.34645537,\n",
            " 'Loss/localization_loss': 0.42193782,\n",
            " 'Loss/regularization_loss': 0.15521993,\n",
            " 'Loss/total_loss': 0.9236131,\n",
            " 'learning_rate': 0.0639998}\n",
            "I0517 15:44:12.244785 139852702287680 model_lib_v2.py:708] {'Loss/classification_loss': 0.34645537,\n",
            " 'Loss/localization_loss': 0.42193782,\n",
            " 'Loss/regularization_loss': 0.15521993,\n",
            " 'Loss/total_loss': 0.9236131,\n",
            " 'learning_rate': 0.0639998}\n",
            "INFO:tensorflow:Step 800 per-step time 0.076s\n",
            "I0517 15:44:19.844895 139852702287680 model_lib_v2.py:705] Step 800 per-step time 0.076s\n",
            "INFO:tensorflow:{'Loss/classification_loss': 0.4142395,\n",
            " 'Loss/localization_loss': 0.39765438,\n",
            " 'Loss/regularization_loss': 0.155205,\n",
            " 'Loss/total_loss': 0.9670989,\n",
            " 'learning_rate': 0.069333196}\n",
            "I0517 15:44:19.845317 139852702287680 model_lib_v2.py:708] {'Loss/classification_loss': 0.4142395,\n",
            " 'Loss/localization_loss': 0.39765438,\n",
            " 'Loss/regularization_loss': 0.155205,\n",
            " 'Loss/total_loss': 0.9670989,\n",
            " 'learning_rate': 0.069333196}\n",
            "INFO:tensorflow:Step 900 per-step time 0.071s\n",
            "I0517 15:44:26.933550 139852702287680 model_lib_v2.py:705] Step 900 per-step time 0.071s\n",
            "INFO:tensorflow:{'Loss/classification_loss': 0.36677638,\n",
            " 'Loss/localization_loss': 0.38524902,\n",
            " 'Loss/regularization_loss': 0.15533012,\n",
            " 'Loss/total_loss': 0.9073555,\n",
            " 'learning_rate': 0.074666604}\n",
            "I0517 15:44:26.933847 139852702287680 model_lib_v2.py:708] {'Loss/classification_loss': 0.36677638,\n",
            " 'Loss/localization_loss': 0.38524902,\n",
            " 'Loss/regularization_loss': 0.15533012,\n",
            " 'Loss/total_loss': 0.9073555,\n",
            " 'learning_rate': 0.074666604}\n",
            "INFO:tensorflow:Step 1000 per-step time 0.058s\n",
            "I0517 15:44:32.764781 139852702287680 model_lib_v2.py:705] Step 1000 per-step time 0.058s\n",
            "INFO:tensorflow:{'Loss/classification_loss': 0.26166704,\n",
            " 'Loss/localization_loss': 0.23925358,\n",
            " 'Loss/regularization_loss': 0.1554087,\n",
            " 'Loss/total_loss': 0.65632933,\n",
            " 'learning_rate': 0.08}\n",
            "I0517 15:44:32.765070 139852702287680 model_lib_v2.py:708] {'Loss/classification_loss': 0.26166704,\n",
            " 'Loss/localization_loss': 0.23925358,\n",
            " 'Loss/regularization_loss': 0.1554087,\n",
            " 'Loss/total_loss': 0.65632933,\n",
            " 'learning_rate': 0.08}\n",
            "INFO:tensorflow:Step 1100 per-step time 0.082s\n",
            "I0517 15:44:40.930143 139852702287680 model_lib_v2.py:705] Step 1100 per-step time 0.082s\n",
            "INFO:tensorflow:{'Loss/classification_loss': 0.40721777,\n",
            " 'Loss/localization_loss': 0.3615149,\n",
            " 'Loss/regularization_loss': 0.1553072,\n",
            " 'Loss/total_loss': 0.92403984,\n",
            " 'learning_rate': 0.07999918}\n",
            "I0517 15:44:40.930579 139852702287680 model_lib_v2.py:708] {'Loss/classification_loss': 0.40721777,\n",
            " 'Loss/localization_loss': 0.3615149,\n",
            " 'Loss/regularization_loss': 0.1553072,\n",
            " 'Loss/total_loss': 0.92403984,\n",
            " 'learning_rate': 0.07999918}\n",
            "INFO:tensorflow:Step 1200 per-step time 0.074s\n",
            "I0517 15:44:48.287026 139852702287680 model_lib_v2.py:705] Step 1200 per-step time 0.074s\n",
            "INFO:tensorflow:{'Loss/classification_loss': 0.22803162,\n",
            " 'Loss/localization_loss': 0.21938486,\n",
            " 'Loss/regularization_loss': 0.1554866,\n",
            " 'Loss/total_loss': 0.60290307,\n",
            " 'learning_rate': 0.079996705}\n",
            "I0517 15:44:48.287340 139852702287680 model_lib_v2.py:708] {'Loss/classification_loss': 0.22803162,\n",
            " 'Loss/localization_loss': 0.21938486,\n",
            " 'Loss/regularization_loss': 0.1554866,\n",
            " 'Loss/total_loss': 0.60290307,\n",
            " 'learning_rate': 0.079996705}\n",
            "INFO:tensorflow:Step 1300 per-step time 0.060s\n",
            "I0517 15:44:54.260734 139852702287680 model_lib_v2.py:705] Step 1300 per-step time 0.060s\n",
            "INFO:tensorflow:{'Loss/classification_loss': 0.32590768,\n",
            " 'Loss/localization_loss': 0.34879664,\n",
            " 'Loss/regularization_loss': 0.1554474,\n",
            " 'Loss/total_loss': 0.8301517,\n",
            " 'learning_rate': 0.0799926}\n",
            "I0517 15:44:54.261040 139852702287680 model_lib_v2.py:708] {'Loss/classification_loss': 0.32590768,\n",
            " 'Loss/localization_loss': 0.34879664,\n",
            " 'Loss/regularization_loss': 0.1554474,\n",
            " 'Loss/total_loss': 0.8301517,\n",
            " 'learning_rate': 0.0799926}\n",
            "INFO:tensorflow:Step 1400 per-step time 0.065s\n",
            "I0517 15:45:00.746677 139852702287680 model_lib_v2.py:705] Step 1400 per-step time 0.065s\n",
            "INFO:tensorflow:{'Loss/classification_loss': 0.5303585,\n",
            " 'Loss/localization_loss': 0.44450793,\n",
            " 'Loss/regularization_loss': 0.15530369,\n",
            " 'Loss/total_loss': 1.1301701,\n",
            " 'learning_rate': 0.07998685}\n",
            "I0517 15:45:00.747045 139852702287680 model_lib_v2.py:708] {'Loss/classification_loss': 0.5303585,\n",
            " 'Loss/localization_loss': 0.44450793,\n",
            " 'Loss/regularization_loss': 0.15530369,\n",
            " 'Loss/total_loss': 1.1301701,\n",
            " 'learning_rate': 0.07998685}\n",
            "INFO:tensorflow:Step 1500 per-step time 0.075s\n",
            "I0517 15:45:08.250975 139852702287680 model_lib_v2.py:705] Step 1500 per-step time 0.075s\n",
            "INFO:tensorflow:{'Loss/classification_loss': 0.5007607,\n",
            " 'Loss/localization_loss': 0.483924,\n",
            " 'Loss/regularization_loss': 0.15522972,\n",
            " 'Loss/total_loss': 1.1399144,\n",
            " 'learning_rate': 0.07997945}\n",
            "I0517 15:45:08.251382 139852702287680 model_lib_v2.py:708] {'Loss/classification_loss': 0.5007607,\n",
            " 'Loss/localization_loss': 0.483924,\n",
            " 'Loss/regularization_loss': 0.15522972,\n",
            " 'Loss/total_loss': 1.1399144,\n",
            " 'learning_rate': 0.07997945}\n",
            "INFO:tensorflow:Step 1600 per-step time 0.065s\n",
            "I0517 15:45:14.758034 139852702287680 model_lib_v2.py:705] Step 1600 per-step time 0.065s\n",
            "INFO:tensorflow:{'Loss/classification_loss': 0.36787298,\n",
            " 'Loss/localization_loss': 0.32722202,\n",
            " 'Loss/regularization_loss': 0.15508899,\n",
            " 'Loss/total_loss': 0.85018396,\n",
            " 'learning_rate': 0.079970405}\n",
            "I0517 15:45:14.758337 139852702287680 model_lib_v2.py:708] {'Loss/classification_loss': 0.36787298,\n",
            " 'Loss/localization_loss': 0.32722202,\n",
            " 'Loss/regularization_loss': 0.15508899,\n",
            " 'Loss/total_loss': 0.85018396,\n",
            " 'learning_rate': 0.079970405}\n",
            "INFO:tensorflow:Step 1700 per-step time 0.062s\n",
            "I0517 15:45:20.930758 139852702287680 model_lib_v2.py:705] Step 1700 per-step time 0.062s\n",
            "INFO:tensorflow:{'Loss/classification_loss': 0.2551122,\n",
            " 'Loss/localization_loss': 0.29354644,\n",
            " 'Loss/regularization_loss': 0.15483998,\n",
            " 'Loss/total_loss': 0.7034986,\n",
            " 'learning_rate': 0.07995972}\n",
            "I0517 15:45:20.931134 139852702287680 model_lib_v2.py:708] {'Loss/classification_loss': 0.2551122,\n",
            " 'Loss/localization_loss': 0.29354644,\n",
            " 'Loss/regularization_loss': 0.15483998,\n",
            " 'Loss/total_loss': 0.7034986,\n",
            " 'learning_rate': 0.07995972}\n",
            "INFO:tensorflow:Step 1800 per-step time 0.073s\n",
            "I0517 15:45:28.263156 139852702287680 model_lib_v2.py:705] Step 1800 per-step time 0.073s\n",
            "INFO:tensorflow:{'Loss/classification_loss': 0.26856497,\n",
            " 'Loss/localization_loss': 0.23215385,\n",
            " 'Loss/regularization_loss': 0.15463814,\n",
            " 'Loss/total_loss': 0.655357,\n",
            " 'learning_rate': 0.0799474}\n",
            "I0517 15:45:28.263550 139852702287680 model_lib_v2.py:708] {'Loss/classification_loss': 0.26856497,\n",
            " 'Loss/localization_loss': 0.23215385,\n",
            " 'Loss/regularization_loss': 0.15463814,\n",
            " 'Loss/total_loss': 0.655357,\n",
            " 'learning_rate': 0.0799474}\n",
            "INFO:tensorflow:Step 1900 per-step time 0.067s\n",
            "I0517 15:45:34.906117 139852702287680 model_lib_v2.py:705] Step 1900 per-step time 0.067s\n",
            "INFO:tensorflow:{'Loss/classification_loss': 0.33930236,\n",
            " 'Loss/localization_loss': 0.3372487,\n",
            " 'Loss/regularization_loss': 0.15436926,\n",
            " 'Loss/total_loss': 0.83092034,\n",
            " 'learning_rate': 0.07993342}\n",
            "I0517 15:45:34.906422 139852702287680 model_lib_v2.py:708] {'Loss/classification_loss': 0.33930236,\n",
            " 'Loss/localization_loss': 0.3372487,\n",
            " 'Loss/regularization_loss': 0.15436926,\n",
            " 'Loss/total_loss': 0.83092034,\n",
            " 'learning_rate': 0.07993342}\n",
            "INFO:tensorflow:Step 2000 per-step time 0.060s\n",
            "I0517 15:45:40.890926 139852702287680 model_lib_v2.py:705] Step 2000 per-step time 0.060s\n",
            "INFO:tensorflow:{'Loss/classification_loss': 0.31200588,\n",
            " 'Loss/localization_loss': 0.26686183,\n",
            " 'Loss/regularization_loss': 0.1542229,\n",
            " 'Loss/total_loss': 0.7330906,\n",
            " 'learning_rate': 0.07991781}\n",
            "I0517 15:45:40.891232 139852702287680 model_lib_v2.py:708] {'Loss/classification_loss': 0.31200588,\n",
            " 'Loss/localization_loss': 0.26686183,\n",
            " 'Loss/regularization_loss': 0.1542229,\n",
            " 'Loss/total_loss': 0.7330906,\n",
            " 'learning_rate': 0.07991781}\n",
            "INFO:tensorflow:Step 2100 per-step time 0.085s\n",
            "I0517 15:45:49.441204 139852702287680 model_lib_v2.py:705] Step 2100 per-step time 0.085s\n",
            "INFO:tensorflow:{'Loss/classification_loss': 0.27526298,\n",
            " 'Loss/localization_loss': 0.27302298,\n",
            " 'Loss/regularization_loss': 0.15385166,\n",
            " 'Loss/total_loss': 0.7021376,\n",
            " 'learning_rate': 0.07990056}\n",
            "I0517 15:45:49.441588 139852702287680 model_lib_v2.py:708] {'Loss/classification_loss': 0.27526298,\n",
            " 'Loss/localization_loss': 0.27302298,\n",
            " 'Loss/regularization_loss': 0.15385166,\n",
            " 'Loss/total_loss': 0.7021376,\n",
            " 'learning_rate': 0.07990056}\n",
            "INFO:tensorflow:Step 2200 per-step time 0.066s\n",
            "I0517 15:45:56.081222 139852702287680 model_lib_v2.py:705] Step 2200 per-step time 0.066s\n",
            "INFO:tensorflow:{'Loss/classification_loss': 0.2640597,\n",
            " 'Loss/localization_loss': 0.2534887,\n",
            " 'Loss/regularization_loss': 0.15359136,\n",
            " 'Loss/total_loss': 0.6711397,\n",
            " 'learning_rate': 0.07988167}\n",
            "I0517 15:45:56.081517 139852702287680 model_lib_v2.py:708] {'Loss/classification_loss': 0.2640597,\n",
            " 'Loss/localization_loss': 0.2534887,\n",
            " 'Loss/regularization_loss': 0.15359136,\n",
            " 'Loss/total_loss': 0.6711397,\n",
            " 'learning_rate': 0.07988167}\n",
            "INFO:tensorflow:Step 2300 per-step time 0.059s\n",
            "I0517 15:46:02.019870 139852702287680 model_lib_v2.py:705] Step 2300 per-step time 0.059s\n",
            "INFO:tensorflow:{'Loss/classification_loss': 0.23709409,\n",
            " 'Loss/localization_loss': 0.17480868,\n",
            " 'Loss/regularization_loss': 0.15337439,\n",
            " 'Loss/total_loss': 0.56527716,\n",
            " 'learning_rate': 0.07986114}\n",
            "I0517 15:46:02.020207 139852702287680 model_lib_v2.py:708] {'Loss/classification_loss': 0.23709409,\n",
            " 'Loss/localization_loss': 0.17480868,\n",
            " 'Loss/regularization_loss': 0.15337439,\n",
            " 'Loss/total_loss': 0.56527716,\n",
            " 'learning_rate': 0.07986114}\n",
            "INFO:tensorflow:Step 2400 per-step time 0.068s\n",
            "I0517 15:46:08.818145 139852702287680 model_lib_v2.py:705] Step 2400 per-step time 0.068s\n",
            "INFO:tensorflow:{'Loss/classification_loss': 0.2671179,\n",
            " 'Loss/localization_loss': 0.35790512,\n",
            " 'Loss/regularization_loss': 0.15312392,\n",
            " 'Loss/total_loss': 0.7781469,\n",
            " 'learning_rate': 0.07983897}\n",
            "I0517 15:46:08.818532 139852702287680 model_lib_v2.py:708] {'Loss/classification_loss': 0.2671179,\n",
            " 'Loss/localization_loss': 0.35790512,\n",
            " 'Loss/regularization_loss': 0.15312392,\n",
            " 'Loss/total_loss': 0.7781469,\n",
            " 'learning_rate': 0.07983897}\n",
            "INFO:tensorflow:Step 2500 per-step time 0.072s\n",
            "I0517 15:46:16.058614 139852702287680 model_lib_v2.py:705] Step 2500 per-step time 0.072s\n",
            "INFO:tensorflow:{'Loss/classification_loss': 0.2547369,\n",
            " 'Loss/localization_loss': 0.27655008,\n",
            " 'Loss/regularization_loss': 0.15289758,\n",
            " 'Loss/total_loss': 0.68418455,\n",
            " 'learning_rate': 0.079815164}\n",
            "I0517 15:46:16.058912 139852702287680 model_lib_v2.py:708] {'Loss/classification_loss': 0.2547369,\n",
            " 'Loss/localization_loss': 0.27655008,\n",
            " 'Loss/regularization_loss': 0.15289758,\n",
            " 'Loss/total_loss': 0.68418455,\n",
            " 'learning_rate': 0.079815164}\n",
            "INFO:tensorflow:Step 2600 per-step time 0.060s\n",
            "I0517 15:46:22.041045 139852702287680 model_lib_v2.py:705] Step 2600 per-step time 0.060s\n",
            "INFO:tensorflow:{'Loss/classification_loss': 0.4802335,\n",
            " 'Loss/localization_loss': 0.32114866,\n",
            " 'Loss/regularization_loss': 0.15257004,\n",
            " 'Loss/total_loss': 0.9539522,\n",
            " 'learning_rate': 0.07978972}\n",
            "I0517 15:46:22.041606 139852702287680 model_lib_v2.py:708] {'Loss/classification_loss': 0.4802335,\n",
            " 'Loss/localization_loss': 0.32114866,\n",
            " 'Loss/regularization_loss': 0.15257004,\n",
            " 'Loss/total_loss': 0.9539522,\n",
            " 'learning_rate': 0.07978972}\n",
            "INFO:tensorflow:Step 2700 per-step time 0.064s\n",
            "I0517 15:46:28.480748 139852702287680 model_lib_v2.py:705] Step 2700 per-step time 0.064s\n",
            "INFO:tensorflow:{'Loss/classification_loss': 0.24424316,\n",
            " 'Loss/localization_loss': 0.2536048,\n",
            " 'Loss/regularization_loss': 0.15228195,\n",
            " 'Loss/total_loss': 0.6501299,\n",
            " 'learning_rate': 0.07976264}\n",
            "I0517 15:46:28.481142 139852702287680 model_lib_v2.py:708] {'Loss/classification_loss': 0.24424316,\n",
            " 'Loss/localization_loss': 0.2536048,\n",
            " 'Loss/regularization_loss': 0.15228195,\n",
            " 'Loss/total_loss': 0.6501299,\n",
            " 'learning_rate': 0.07976264}\n",
            "INFO:tensorflow:Step 2800 per-step time 0.073s\n",
            "I0517 15:46:35.729491 139852702287680 model_lib_v2.py:705] Step 2800 per-step time 0.073s\n",
            "INFO:tensorflow:{'Loss/classification_loss': 0.23343281,\n",
            " 'Loss/localization_loss': 0.17506929,\n",
            " 'Loss/regularization_loss': 0.15198107,\n",
            " 'Loss/total_loss': 0.56048316,\n",
            " 'learning_rate': 0.07973392}\n",
            "I0517 15:46:35.729859 139852702287680 model_lib_v2.py:708] {'Loss/classification_loss': 0.23343281,\n",
            " 'Loss/localization_loss': 0.17506929,\n",
            " 'Loss/regularization_loss': 0.15198107,\n",
            " 'Loss/total_loss': 0.56048316,\n",
            " 'learning_rate': 0.07973392}\n",
            "INFO:tensorflow:Step 2900 per-step time 0.063s\n",
            "I0517 15:46:42.040557 139852702287680 model_lib_v2.py:705] Step 2900 per-step time 0.063s\n",
            "INFO:tensorflow:{'Loss/classification_loss': 0.23126,\n",
            " 'Loss/localization_loss': 0.17467788,\n",
            " 'Loss/regularization_loss': 0.15179974,\n",
            " 'Loss/total_loss': 0.5577376,\n",
            " 'learning_rate': 0.07970358}\n",
            "I0517 15:46:42.040849 139852702287680 model_lib_v2.py:708] {'Loss/classification_loss': 0.23126,\n",
            " 'Loss/localization_loss': 0.17467788,\n",
            " 'Loss/regularization_loss': 0.15179974,\n",
            " 'Loss/total_loss': 0.5577376,\n",
            " 'learning_rate': 0.07970358}\n",
            "INFO:tensorflow:Step 3000 per-step time 0.060s\n",
            "I0517 15:46:48.090925 139852702287680 model_lib_v2.py:705] Step 3000 per-step time 0.060s\n",
            "INFO:tensorflow:{'Loss/classification_loss': 0.19431525,\n",
            " 'Loss/localization_loss': 0.14185177,\n",
            " 'Loss/regularization_loss': 0.15147366,\n",
            " 'Loss/total_loss': 0.48764068,\n",
            " 'learning_rate': 0.0796716}\n",
            "I0517 15:46:48.091299 139852702287680 model_lib_v2.py:708] {'Loss/classification_loss': 0.19431525,\n",
            " 'Loss/localization_loss': 0.14185177,\n",
            " 'Loss/regularization_loss': 0.15147366,\n",
            " 'Loss/total_loss': 0.48764068,\n",
            " 'learning_rate': 0.0796716}\n",
            "INFO:tensorflow:Step 3100 per-step time 0.089s\n",
            "I0517 15:46:56.980596 139852702287680 model_lib_v2.py:705] Step 3100 per-step time 0.089s\n",
            "INFO:tensorflow:{'Loss/classification_loss': 0.2130754,\n",
            " 'Loss/localization_loss': 0.16558506,\n",
            " 'Loss/regularization_loss': 0.15128316,\n",
            " 'Loss/total_loss': 0.5299436,\n",
            " 'learning_rate': 0.07963799}\n",
            "I0517 15:46:56.981115 139852702287680 model_lib_v2.py:708] {'Loss/classification_loss': 0.2130754,\n",
            " 'Loss/localization_loss': 0.16558506,\n",
            " 'Loss/regularization_loss': 0.15128316,\n",
            " 'Loss/total_loss': 0.5299436,\n",
            " 'learning_rate': 0.07963799}\n",
            "INFO:tensorflow:Step 3200 per-step time 0.063s\n",
            "I0517 15:47:03.304154 139852702287680 model_lib_v2.py:705] Step 3200 per-step time 0.063s\n",
            "INFO:tensorflow:{'Loss/classification_loss': 0.1554241,\n",
            " 'Loss/localization_loss': 0.12830004,\n",
            " 'Loss/regularization_loss': 0.15096109,\n",
            " 'Loss/total_loss': 0.43468523,\n",
            " 'learning_rate': 0.07960275}\n",
            "I0517 15:47:03.304447 139852702287680 model_lib_v2.py:708] {'Loss/classification_loss': 0.1554241,\n",
            " 'Loss/localization_loss': 0.12830004,\n",
            " 'Loss/regularization_loss': 0.15096109,\n",
            " 'Loss/total_loss': 0.43468523,\n",
            " 'learning_rate': 0.07960275}\n",
            "INFO:tensorflow:Step 3300 per-step time 0.060s\n",
            "I0517 15:47:09.297518 139852702287680 model_lib_v2.py:705] Step 3300 per-step time 0.060s\n",
            "INFO:tensorflow:{'Loss/classification_loss': 0.18462507,\n",
            " 'Loss/localization_loss': 0.14880624,\n",
            " 'Loss/regularization_loss': 0.15066603,\n",
            " 'Loss/total_loss': 0.48409733,\n",
            " 'learning_rate': 0.07956588}\n",
            "I0517 15:47:09.297939 139852702287680 model_lib_v2.py:708] {'Loss/classification_loss': 0.18462507,\n",
            " 'Loss/localization_loss': 0.14880624,\n",
            " 'Loss/regularization_loss': 0.15066603,\n",
            " 'Loss/total_loss': 0.48409733,\n",
            " 'learning_rate': 0.07956588}\n",
            "INFO:tensorflow:Step 3400 per-step time 0.073s\n",
            "I0517 15:47:16.612303 139852702287680 model_lib_v2.py:705] Step 3400 per-step time 0.073s\n",
            "INFO:tensorflow:{'Loss/classification_loss': 0.18734063,\n",
            " 'Loss/localization_loss': 0.17607413,\n",
            " 'Loss/regularization_loss': 0.1503219,\n",
            " 'Loss/total_loss': 0.51373667,\n",
            " 'learning_rate': 0.079527386}\n",
            "I0517 15:47:16.612726 139852702287680 model_lib_v2.py:708] {'Loss/classification_loss': 0.18734063,\n",
            " 'Loss/localization_loss': 0.17607413,\n",
            " 'Loss/regularization_loss': 0.1503219,\n",
            " 'Loss/total_loss': 0.51373667,\n",
            " 'learning_rate': 0.079527386}\n",
            "INFO:tensorflow:Step 3500 per-step time 0.067s\n",
            "I0517 15:47:23.265919 139852702287680 model_lib_v2.py:705] Step 3500 per-step time 0.067s\n",
            "INFO:tensorflow:{'Loss/classification_loss': 0.2747979,\n",
            " 'Loss/localization_loss': 0.27829513,\n",
            " 'Loss/regularization_loss': 0.1502054,\n",
            " 'Loss/total_loss': 0.70329845,\n",
            " 'learning_rate': 0.07948727}\n",
            "I0517 15:47:23.266235 139852702287680 model_lib_v2.py:708] {'Loss/classification_loss': 0.2747979,\n",
            " 'Loss/localization_loss': 0.27829513,\n",
            " 'Loss/regularization_loss': 0.1502054,\n",
            " 'Loss/total_loss': 0.70329845,\n",
            " 'learning_rate': 0.07948727}\n",
            "INFO:tensorflow:Step 3600 per-step time 0.059s\n",
            "I0517 15:47:29.160213 139852702287680 model_lib_v2.py:705] Step 3600 per-step time 0.059s\n",
            "INFO:tensorflow:{'Loss/classification_loss': 0.22367467,\n",
            " 'Loss/localization_loss': 0.16609485,\n",
            " 'Loss/regularization_loss': 0.14983779,\n",
            " 'Loss/total_loss': 0.5396073,\n",
            " 'learning_rate': 0.079445526}\n",
            "I0517 15:47:29.160588 139852702287680 model_lib_v2.py:708] {'Loss/classification_loss': 0.22367467,\n",
            " 'Loss/localization_loss': 0.16609485,\n",
            " 'Loss/regularization_loss': 0.14983779,\n",
            " 'Loss/total_loss': 0.5396073,\n",
            " 'learning_rate': 0.079445526}\n",
            "INFO:tensorflow:Step 3700 per-step time 0.069s\n",
            "I0517 15:47:36.015899 139852702287680 model_lib_v2.py:705] Step 3700 per-step time 0.069s\n",
            "INFO:tensorflow:{'Loss/classification_loss': 0.3548747,\n",
            " 'Loss/localization_loss': 0.35990506,\n",
            " 'Loss/regularization_loss': 0.14954542,\n",
            " 'Loss/total_loss': 0.86432517,\n",
            " 'learning_rate': 0.07940216}\n",
            "I0517 15:47:36.016332 139852702287680 model_lib_v2.py:708] {'Loss/classification_loss': 0.3548747,\n",
            " 'Loss/localization_loss': 0.35990506,\n",
            " 'Loss/regularization_loss': 0.14954542,\n",
            " 'Loss/total_loss': 0.86432517,\n",
            " 'learning_rate': 0.07940216}\n",
            "INFO:tensorflow:Step 3800 per-step time 0.071s\n",
            "I0517 15:47:43.145485 139852702287680 model_lib_v2.py:705] Step 3800 per-step time 0.071s\n",
            "INFO:tensorflow:{'Loss/classification_loss': 0.18700771,\n",
            " 'Loss/localization_loss': 0.21317475,\n",
            " 'Loss/regularization_loss': 0.14925852,\n",
            " 'Loss/total_loss': 0.549441,\n",
            " 'learning_rate': 0.079357184}\n",
            "I0517 15:47:43.145812 139852702287680 model_lib_v2.py:708] {'Loss/classification_loss': 0.18700771,\n",
            " 'Loss/localization_loss': 0.21317475,\n",
            " 'Loss/regularization_loss': 0.14925852,\n",
            " 'Loss/total_loss': 0.549441,\n",
            " 'learning_rate': 0.079357184}\n",
            "INFO:tensorflow:Step 3900 per-step time 0.060s\n",
            "I0517 15:47:49.131225 139852702287680 model_lib_v2.py:705] Step 3900 per-step time 0.060s\n",
            "INFO:tensorflow:{'Loss/classification_loss': 0.22716407,\n",
            " 'Loss/localization_loss': 0.18208495,\n",
            " 'Loss/regularization_loss': 0.14884391,\n",
            " 'Loss/total_loss': 0.55809295,\n",
            " 'learning_rate': 0.07931058}\n",
            "I0517 15:47:49.131510 139852702287680 model_lib_v2.py:708] {'Loss/classification_loss': 0.22716407,\n",
            " 'Loss/localization_loss': 0.18208495,\n",
            " 'Loss/regularization_loss': 0.14884391,\n",
            " 'Loss/total_loss': 0.55809295,\n",
            " 'learning_rate': 0.07931058}\n",
            "INFO:tensorflow:Step 4000 per-step time 0.065s\n",
            "I0517 15:47:55.596049 139852702287680 model_lib_v2.py:705] Step 4000 per-step time 0.065s\n",
            "INFO:tensorflow:{'Loss/classification_loss': 0.12215318,\n",
            " 'Loss/localization_loss': 0.058667812,\n",
            " 'Loss/regularization_loss': 0.14881815,\n",
            " 'Loss/total_loss': 0.32963914,\n",
            " 'learning_rate': 0.07926236}\n",
            "I0517 15:47:55.596444 139852702287680 model_lib_v2.py:708] {'Loss/classification_loss': 0.12215318,\n",
            " 'Loss/localization_loss': 0.058667812,\n",
            " 'Loss/regularization_loss': 0.14881815,\n",
            " 'Loss/total_loss': 0.32963914,\n",
            " 'learning_rate': 0.07926236}\n",
            "INFO:tensorflow:Step 4100 per-step time 0.088s\n",
            "I0517 15:48:04.391639 139852702287680 model_lib_v2.py:705] Step 4100 per-step time 0.088s\n",
            "INFO:tensorflow:{'Loss/classification_loss': 0.16945228,\n",
            " 'Loss/localization_loss': 0.1580861,\n",
            " 'Loss/regularization_loss': 0.14857547,\n",
            " 'Loss/total_loss': 0.47611386,\n",
            " 'learning_rate': 0.07921253}\n",
            "I0517 15:48:04.391957 139852702287680 model_lib_v2.py:708] {'Loss/classification_loss': 0.16945228,\n",
            " 'Loss/localization_loss': 0.1580861,\n",
            " 'Loss/regularization_loss': 0.14857547,\n",
            " 'Loss/total_loss': 0.47611386,\n",
            " 'learning_rate': 0.07921253}\n",
            "INFO:tensorflow:Step 4200 per-step time 0.060s\n",
            "I0517 15:48:10.375090 139852702287680 model_lib_v2.py:705] Step 4200 per-step time 0.060s\n",
            "INFO:tensorflow:{'Loss/classification_loss': 0.19293626,\n",
            " 'Loss/localization_loss': 0.24475941,\n",
            " 'Loss/regularization_loss': 0.14819601,\n",
            " 'Loss/total_loss': 0.5858917,\n",
            " 'learning_rate': 0.07916109}\n",
            "I0517 15:48:10.375390 139852702287680 model_lib_v2.py:708] {'Loss/classification_loss': 0.19293626,\n",
            " 'Loss/localization_loss': 0.24475941,\n",
            " 'Loss/regularization_loss': 0.14819601,\n",
            " 'Loss/total_loss': 0.5858917,\n",
            " 'learning_rate': 0.07916109}\n",
            "INFO:tensorflow:Step 4300 per-step time 0.064s\n",
            "I0517 15:48:16.777061 139852702287680 model_lib_v2.py:705] Step 4300 per-step time 0.064s\n",
            "INFO:tensorflow:{'Loss/classification_loss': 0.1236034,\n",
            " 'Loss/localization_loss': 0.1716011,\n",
            " 'Loss/regularization_loss': 0.14784627,\n",
            " 'Loss/total_loss': 0.4430508,\n",
            " 'learning_rate': 0.07910804}\n",
            "I0517 15:48:16.777440 139852702287680 model_lib_v2.py:708] {'Loss/classification_loss': 0.1236034,\n",
            " 'Loss/localization_loss': 0.1716011,\n",
            " 'Loss/regularization_loss': 0.14784627,\n",
            " 'Loss/total_loss': 0.4430508,\n",
            " 'learning_rate': 0.07910804}\n",
            "INFO:tensorflow:Step 4400 per-step time 0.074s\n",
            "I0517 15:48:24.178489 139852702287680 model_lib_v2.py:705] Step 4400 per-step time 0.074s\n",
            "INFO:tensorflow:{'Loss/classification_loss': 0.17640711,\n",
            " 'Loss/localization_loss': 0.13514122,\n",
            " 'Loss/regularization_loss': 0.14755192,\n",
            " 'Loss/total_loss': 0.45910028,\n",
            " 'learning_rate': 0.07905338}\n",
            "I0517 15:48:24.178883 139852702287680 model_lib_v2.py:708] {'Loss/classification_loss': 0.17640711,\n",
            " 'Loss/localization_loss': 0.13514122,\n",
            " 'Loss/regularization_loss': 0.14755192,\n",
            " 'Loss/total_loss': 0.45910028,\n",
            " 'learning_rate': 0.07905338}\n",
            "INFO:tensorflow:Step 4500 per-step time 0.062s\n",
            "I0517 15:48:30.369640 139852702287680 model_lib_v2.py:705] Step 4500 per-step time 0.062s\n",
            "INFO:tensorflow:{'Loss/classification_loss': 0.19503923,\n",
            " 'Loss/localization_loss': 0.24561173,\n",
            " 'Loss/regularization_loss': 0.1472339,\n",
            " 'Loss/total_loss': 0.58788484,\n",
            " 'learning_rate': 0.07899711}\n",
            "I0517 15:48:30.369949 139852702287680 model_lib_v2.py:708] {'Loss/classification_loss': 0.19503923,\n",
            " 'Loss/localization_loss': 0.24561173,\n",
            " 'Loss/regularization_loss': 0.1472339,\n",
            " 'Loss/total_loss': 0.58788484,\n",
            " 'learning_rate': 0.07899711}\n",
            "INFO:tensorflow:Step 4600 per-step time 0.062s\n",
            "I0517 15:48:36.576865 139852702287680 model_lib_v2.py:705] Step 4600 per-step time 0.062s\n",
            "INFO:tensorflow:{'Loss/classification_loss': 0.281149,\n",
            " 'Loss/localization_loss': 0.33225092,\n",
            " 'Loss/regularization_loss': 0.14695087,\n",
            " 'Loss/total_loss': 0.7603508,\n",
            " 'learning_rate': 0.078939244}\n",
            "I0517 15:48:36.577254 139852702287680 model_lib_v2.py:708] {'Loss/classification_loss': 0.281149,\n",
            " 'Loss/localization_loss': 0.33225092,\n",
            " 'Loss/regularization_loss': 0.14695087,\n",
            " 'Loss/total_loss': 0.7603508,\n",
            " 'learning_rate': 0.078939244}\n",
            "INFO:tensorflow:Step 4700 per-step time 0.073s\n",
            "I0517 15:48:43.927633 139852702287680 model_lib_v2.py:705] Step 4700 per-step time 0.073s\n",
            "INFO:tensorflow:{'Loss/classification_loss': 0.22845781,\n",
            " 'Loss/localization_loss': 0.29414123,\n",
            " 'Loss/regularization_loss': 0.14672469,\n",
            " 'Loss/total_loss': 0.66932374,\n",
            " 'learning_rate': 0.07887978}\n",
            "I0517 15:48:43.928003 139852702287680 model_lib_v2.py:708] {'Loss/classification_loss': 0.22845781,\n",
            " 'Loss/localization_loss': 0.29414123,\n",
            " 'Loss/regularization_loss': 0.14672469,\n",
            " 'Loss/total_loss': 0.66932374,\n",
            " 'learning_rate': 0.07887978}\n",
            "INFO:tensorflow:Step 4800 per-step time 0.066s\n",
            "I0517 15:48:50.495035 139852702287680 model_lib_v2.py:705] Step 4800 per-step time 0.066s\n",
            "INFO:tensorflow:{'Loss/classification_loss': 0.16805913,\n",
            " 'Loss/localization_loss': 0.12225264,\n",
            " 'Loss/regularization_loss': 0.14648688,\n",
            " 'Loss/total_loss': 0.43679863,\n",
            " 'learning_rate': 0.07881871}\n",
            "I0517 15:48:50.495333 139852702287680 model_lib_v2.py:708] {'Loss/classification_loss': 0.16805913,\n",
            " 'Loss/localization_loss': 0.12225264,\n",
            " 'Loss/regularization_loss': 0.14648688,\n",
            " 'Loss/total_loss': 0.43679863,\n",
            " 'learning_rate': 0.07881871}\n",
            "INFO:tensorflow:Step 4900 per-step time 0.060s\n",
            "I0517 15:48:56.467178 139852702287680 model_lib_v2.py:705] Step 4900 per-step time 0.060s\n",
            "INFO:tensorflow:{'Loss/classification_loss': 0.21357702,\n",
            " 'Loss/localization_loss': 0.23920265,\n",
            " 'Loss/regularization_loss': 0.146261,\n",
            " 'Loss/total_loss': 0.5990406,\n",
            " 'learning_rate': 0.07875605}\n",
            "I0517 15:48:56.467470 139852702287680 model_lib_v2.py:708] {'Loss/classification_loss': 0.21357702,\n",
            " 'Loss/localization_loss': 0.23920265,\n",
            " 'Loss/regularization_loss': 0.146261,\n",
            " 'Loss/total_loss': 0.5990406,\n",
            " 'learning_rate': 0.07875605}\n"
          ]
        }
      ]
    },
    {
      "cell_type": "markdown",
      "source": [],
      "metadata": {
        "id": "_PA565ZNRY-T"
      }
    },
    {
      "cell_type": "code",
      "source": [
        "!pip uninstall numpy\n",
        "!pip install numpy\n"
      ],
      "metadata": {
        "colab": {
          "base_uri": "https://localhost:8080/",
          "height": 500
        },
        "id": "YhkLYFUiMs1R",
        "outputId": "dd8738de-0e3f-4334-cda1-d926ceb12ef0"
      },
      "execution_count": 46,
      "outputs": [
        {
          "output_type": "stream",
          "name": "stdout",
          "text": [
            "Found existing installation: numpy 1.24.3\n",
            "Uninstalling numpy-1.24.3:\n",
            "  Would remove:\n",
            "    /usr/local/bin/f2py\n",
            "    /usr/local/bin/f2py3\n",
            "    /usr/local/bin/f2py3.10\n",
            "    /usr/local/lib/python3.10/dist-packages/numpy-1.24.3.dist-info/*\n",
            "    /usr/local/lib/python3.10/dist-packages/numpy.libs/libgfortran-040039e1.so.5.0.0\n",
            "    /usr/local/lib/python3.10/dist-packages/numpy.libs/libopenblas64_p-r0-15028c96.3.21.so\n",
            "    /usr/local/lib/python3.10/dist-packages/numpy.libs/libquadmath-96973f99.so.0.0.0\n",
            "    /usr/local/lib/python3.10/dist-packages/numpy/*\n",
            "Proceed (Y/n)? Y\n",
            "  Successfully uninstalled numpy-1.24.3\n",
            "Looking in indexes: https://pypi.org/simple, https://us-python.pkg.dev/colab-wheels/public/simple/\n",
            "Collecting numpy\n",
            "  Using cached numpy-1.24.3-cp310-cp310-manylinux_2_17_x86_64.manylinux2014_x86_64.whl (17.3 MB)\n",
            "Installing collected packages: numpy\n",
            "\u001b[31mERROR: pip's dependency resolver does not currently take into account all the packages that are installed. This behaviour is the source of the following dependency conflicts.\n",
            "numba 0.56.4 requires numpy<1.24,>=1.18, but you have numpy 1.24.3 which is incompatible.\n",
            "tensorflow 2.12.0 requires numpy<1.24,>=1.22, but you have numpy 1.24.3 which is incompatible.\u001b[0m\u001b[31m\n",
            "\u001b[0mSuccessfully installed numpy-1.24.3\n"
          ]
        },
        {
          "output_type": "display_data",
          "data": {
            "application/vnd.colab-display-data+json": {
              "pip_warning": {
                "packages": [
                  "numpy"
                ]
              }
            }
          },
          "metadata": {}
        }
      ]
    },
    {
      "cell_type": "code",
      "source": [
        "!pip uninstall object_detection\n",
        "!pip uninstall numpy\n",
        "!pip install numpy==1.19.5\n",
        "!pip install object_detection"
      ],
      "metadata": {
        "id": "88Nc3yBUN_uG"
      },
      "execution_count": null,
      "outputs": []
    },
    {
      "cell_type": "code",
      "source": [
        "import os\n",
        "from object_detection.utils import label_map_util\n",
        "from object_detection.utils import visualization_utils as viz_utils\n",
        "from object_detection.builders import model_builder"
      ],
      "metadata": {
        "colab": {
          "base_uri": "https://localhost:8080/",
          "height": 594
        },
        "id": "Af7V-WvbMbpo",
        "outputId": "61fd6fdb-84d7-436a-9cd5-367186c5010f"
      },
      "execution_count": 60,
      "outputs": [
        {
          "output_type": "error",
          "ename": "RuntimeError",
          "evalue": "ignored",
          "traceback": [
            "\u001b[0;31m---------------------------------------------------------------------------\u001b[0m",
            "\u001b[0;31mRuntimeError\u001b[0m                              Traceback (most recent call last)",
            "\u001b[0;31mRuntimeError\u001b[0m: module compiled against API version 0x10 but this version of numpy is 0xf"
          ]
        },
        {
          "output_type": "error",
          "ename": "ImportError",
          "evalue": "ignored",
          "traceback": [
            "\u001b[0;31m---------------------------------------------------------------------------\u001b[0m",
            "\u001b[0;31mImportError\u001b[0m                               Traceback (most recent call last)",
            "\u001b[0;32m<ipython-input-60-067428168487>\u001b[0m in \u001b[0;36m<cell line: 4>\u001b[0;34m()\u001b[0m\n\u001b[1;32m      2\u001b[0m \u001b[0;32mfrom\u001b[0m \u001b[0mobject_detection\u001b[0m\u001b[0;34m.\u001b[0m\u001b[0mutils\u001b[0m \u001b[0;32mimport\u001b[0m \u001b[0mlabel_map_util\u001b[0m\u001b[0;34m\u001b[0m\u001b[0;34m\u001b[0m\u001b[0m\n\u001b[1;32m      3\u001b[0m \u001b[0;32mfrom\u001b[0m \u001b[0mobject_detection\u001b[0m\u001b[0;34m.\u001b[0m\u001b[0mutils\u001b[0m \u001b[0;32mimport\u001b[0m \u001b[0mvisualization_utils\u001b[0m \u001b[0;32mas\u001b[0m \u001b[0mviz_utils\u001b[0m\u001b[0;34m\u001b[0m\u001b[0;34m\u001b[0m\u001b[0m\n\u001b[0;32m----> 4\u001b[0;31m \u001b[0;32mfrom\u001b[0m \u001b[0mobject_detection\u001b[0m\u001b[0;34m.\u001b[0m\u001b[0mbuilders\u001b[0m \u001b[0;32mimport\u001b[0m \u001b[0mmodel_builder\u001b[0m\u001b[0;34m\u001b[0m\u001b[0;34m\u001b[0m\u001b[0m\n\u001b[0m",
            "\u001b[0;32m/content/models/research/object_detection/builders/model_builder.py\u001b[0m in \u001b[0;36m<module>\u001b[0;34m\u001b[0m\n\u001b[1;32m     32\u001b[0m \u001b[0;32mfrom\u001b[0m \u001b[0mobject_detection\u001b[0m\u001b[0;34m.\u001b[0m\u001b[0mcore\u001b[0m \u001b[0;32mimport\u001b[0m \u001b[0mbalanced_positive_negative_sampler\u001b[0m \u001b[0;32mas\u001b[0m \u001b[0msampler\u001b[0m\u001b[0;34m\u001b[0m\u001b[0;34m\u001b[0m\u001b[0m\n\u001b[1;32m     33\u001b[0m \u001b[0;32mfrom\u001b[0m \u001b[0mobject_detection\u001b[0m\u001b[0;34m.\u001b[0m\u001b[0mcore\u001b[0m \u001b[0;32mimport\u001b[0m \u001b[0mpost_processing\u001b[0m\u001b[0;34m\u001b[0m\u001b[0;34m\u001b[0m\u001b[0m\n\u001b[0;32m---> 34\u001b[0;31m \u001b[0;32mfrom\u001b[0m \u001b[0mobject_detection\u001b[0m\u001b[0;34m.\u001b[0m\u001b[0mcore\u001b[0m \u001b[0;32mimport\u001b[0m \u001b[0mtarget_assigner\u001b[0m\u001b[0;34m\u001b[0m\u001b[0;34m\u001b[0m\u001b[0m\n\u001b[0m\u001b[1;32m     35\u001b[0m \u001b[0;32mfrom\u001b[0m \u001b[0mobject_detection\u001b[0m\u001b[0;34m.\u001b[0m\u001b[0mmeta_architectures\u001b[0m \u001b[0;32mimport\u001b[0m \u001b[0mcenter_net_meta_arch\u001b[0m\u001b[0;34m\u001b[0m\u001b[0;34m\u001b[0m\u001b[0m\n\u001b[1;32m     36\u001b[0m \u001b[0;32mfrom\u001b[0m \u001b[0mobject_detection\u001b[0m\u001b[0;34m.\u001b[0m\u001b[0mmeta_architectures\u001b[0m \u001b[0;32mimport\u001b[0m \u001b[0mcontext_rcnn_meta_arch\u001b[0m\u001b[0;34m\u001b[0m\u001b[0;34m\u001b[0m\u001b[0m\n",
            "\u001b[0;32m/content/models/research/object_detection/core/target_assigner.py\u001b[0m in \u001b[0;36m<module>\u001b[0;34m\u001b[0m\n\u001b[1;32m     52\u001b[0m \u001b[0;32mfrom\u001b[0m \u001b[0mobject_detection\u001b[0m\u001b[0;34m.\u001b[0m\u001b[0mcore\u001b[0m \u001b[0;32mimport\u001b[0m \u001b[0mstandard_fields\u001b[0m \u001b[0;32mas\u001b[0m \u001b[0mfields\u001b[0m\u001b[0;34m\u001b[0m\u001b[0;34m\u001b[0m\u001b[0m\n\u001b[1;32m     53\u001b[0m \u001b[0;32mfrom\u001b[0m \u001b[0mobject_detection\u001b[0m\u001b[0;34m.\u001b[0m\u001b[0mmatchers\u001b[0m \u001b[0;32mimport\u001b[0m \u001b[0margmax_matcher\u001b[0m\u001b[0;34m\u001b[0m\u001b[0;34m\u001b[0m\u001b[0m\n\u001b[0;32m---> 54\u001b[0;31m \u001b[0;32mfrom\u001b[0m \u001b[0mobject_detection\u001b[0m\u001b[0;34m.\u001b[0m\u001b[0mmatchers\u001b[0m \u001b[0;32mimport\u001b[0m \u001b[0mhungarian_matcher\u001b[0m\u001b[0;34m\u001b[0m\u001b[0;34m\u001b[0m\u001b[0m\n\u001b[0m\u001b[1;32m     55\u001b[0m \u001b[0;32mfrom\u001b[0m \u001b[0mobject_detection\u001b[0m\u001b[0;34m.\u001b[0m\u001b[0mutils\u001b[0m \u001b[0;32mimport\u001b[0m \u001b[0mshape_utils\u001b[0m\u001b[0;34m\u001b[0m\u001b[0;34m\u001b[0m\u001b[0m\n\u001b[1;32m     56\u001b[0m \u001b[0;32mfrom\u001b[0m \u001b[0mobject_detection\u001b[0m\u001b[0;34m.\u001b[0m\u001b[0mutils\u001b[0m \u001b[0;32mimport\u001b[0m \u001b[0mtarget_assigner_utils\u001b[0m \u001b[0;32mas\u001b[0m \u001b[0mta_utils\u001b[0m\u001b[0;34m\u001b[0m\u001b[0;34m\u001b[0m\u001b[0m\n",
            "\u001b[0;32m/content/models/research/object_detection/matchers/hungarian_matcher.py\u001b[0m in \u001b[0;36m<module>\u001b[0;34m\u001b[0m\n\u001b[1;32m     17\u001b[0m \u001b[0;34m\u001b[0m\u001b[0m\n\u001b[1;32m     18\u001b[0m \u001b[0;32mimport\u001b[0m \u001b[0mnumpy\u001b[0m \u001b[0;32mas\u001b[0m \u001b[0mnp\u001b[0m\u001b[0;34m\u001b[0m\u001b[0;34m\u001b[0m\u001b[0m\n\u001b[0;32m---> 19\u001b[0;31m \u001b[0;32mfrom\u001b[0m \u001b[0mscipy\u001b[0m\u001b[0;34m.\u001b[0m\u001b[0moptimize\u001b[0m \u001b[0;32mimport\u001b[0m \u001b[0mlinear_sum_assignment\u001b[0m\u001b[0;34m\u001b[0m\u001b[0;34m\u001b[0m\u001b[0m\n\u001b[0m\u001b[1;32m     20\u001b[0m \u001b[0;34m\u001b[0m\u001b[0m\n\u001b[1;32m     21\u001b[0m \u001b[0;32mimport\u001b[0m \u001b[0mtensorflow\u001b[0m\u001b[0;34m.\u001b[0m\u001b[0mcompat\u001b[0m\u001b[0;34m.\u001b[0m\u001b[0mv1\u001b[0m \u001b[0;32mas\u001b[0m \u001b[0mtf\u001b[0m\u001b[0;34m\u001b[0m\u001b[0;34m\u001b[0m\u001b[0m\n",
            "\u001b[0;32m/usr/local/lib/python3.10/dist-packages/scipy/optimize/__init__.py\u001b[0m in \u001b[0;36m<module>\u001b[0;34m\u001b[0m\n\u001b[1;32m    403\u001b[0m \u001b[0;34m\u001b[0m\u001b[0m\n\u001b[1;32m    404\u001b[0m \u001b[0;32mfrom\u001b[0m \u001b[0;34m.\u001b[0m\u001b[0m_optimize\u001b[0m \u001b[0;32mimport\u001b[0m \u001b[0;34m*\u001b[0m\u001b[0;34m\u001b[0m\u001b[0;34m\u001b[0m\u001b[0m\n\u001b[0;32m--> 405\u001b[0;31m \u001b[0;32mfrom\u001b[0m \u001b[0;34m.\u001b[0m\u001b[0m_minimize\u001b[0m \u001b[0;32mimport\u001b[0m \u001b[0;34m*\u001b[0m\u001b[0;34m\u001b[0m\u001b[0;34m\u001b[0m\u001b[0m\n\u001b[0m\u001b[1;32m    406\u001b[0m \u001b[0;32mfrom\u001b[0m \u001b[0;34m.\u001b[0m\u001b[0m_root\u001b[0m \u001b[0;32mimport\u001b[0m \u001b[0;34m*\u001b[0m\u001b[0;34m\u001b[0m\u001b[0;34m\u001b[0m\u001b[0m\n\u001b[1;32m    407\u001b[0m \u001b[0;32mfrom\u001b[0m \u001b[0;34m.\u001b[0m\u001b[0m_root_scalar\u001b[0m \u001b[0;32mimport\u001b[0m \u001b[0;34m*\u001b[0m\u001b[0;34m\u001b[0m\u001b[0;34m\u001b[0m\u001b[0m\n",
            "\u001b[0;32m/usr/local/lib/python3.10/dist-packages/scipy/optimize/_minimize.py\u001b[0m in \u001b[0;36m<module>\u001b[0;34m\u001b[0m\n\u001b[1;32m     24\u001b[0m \u001b[0;32mfrom\u001b[0m \u001b[0;34m.\u001b[0m\u001b[0m_trustregion_krylov\u001b[0m \u001b[0;32mimport\u001b[0m \u001b[0m_minimize_trust_krylov\u001b[0m\u001b[0;34m\u001b[0m\u001b[0;34m\u001b[0m\u001b[0m\n\u001b[1;32m     25\u001b[0m \u001b[0;32mfrom\u001b[0m \u001b[0;34m.\u001b[0m\u001b[0m_trustregion_exact\u001b[0m \u001b[0;32mimport\u001b[0m \u001b[0m_minimize_trustregion_exact\u001b[0m\u001b[0;34m\u001b[0m\u001b[0;34m\u001b[0m\u001b[0m\n\u001b[0;32m---> 26\u001b[0;31m \u001b[0;32mfrom\u001b[0m \u001b[0;34m.\u001b[0m\u001b[0m_trustregion_constr\u001b[0m \u001b[0;32mimport\u001b[0m \u001b[0m_minimize_trustregion_constr\u001b[0m\u001b[0;34m\u001b[0m\u001b[0;34m\u001b[0m\u001b[0m\n\u001b[0m\u001b[1;32m     27\u001b[0m \u001b[0;34m\u001b[0m\u001b[0m\n\u001b[1;32m     28\u001b[0m \u001b[0;31m# constrained minimization\u001b[0m\u001b[0;34m\u001b[0m\u001b[0;34m\u001b[0m\u001b[0m\n",
            "\u001b[0;32m/usr/local/lib/python3.10/dist-packages/scipy/optimize/_trustregion_constr/__init__.py\u001b[0m in \u001b[0;36m<module>\u001b[0;34m\u001b[0m\n\u001b[1;32m      2\u001b[0m \u001b[0;34m\u001b[0m\u001b[0m\n\u001b[1;32m      3\u001b[0m \u001b[0;34m\u001b[0m\u001b[0m\n\u001b[0;32m----> 4\u001b[0;31m \u001b[0;32mfrom\u001b[0m \u001b[0;34m.\u001b[0m\u001b[0mminimize_trustregion_constr\u001b[0m \u001b[0;32mimport\u001b[0m \u001b[0m_minimize_trustregion_constr\u001b[0m\u001b[0;34m\u001b[0m\u001b[0;34m\u001b[0m\u001b[0m\n\u001b[0m\u001b[1;32m      5\u001b[0m \u001b[0;34m\u001b[0m\u001b[0m\n\u001b[1;32m      6\u001b[0m \u001b[0m__all__\u001b[0m \u001b[0;34m=\u001b[0m \u001b[0;34m[\u001b[0m\u001b[0;34m'_minimize_trustregion_constr'\u001b[0m\u001b[0;34m]\u001b[0m\u001b[0;34m\u001b[0m\u001b[0;34m\u001b[0m\u001b[0m\n",
            "\u001b[0;32m/usr/local/lib/python3.10/dist-packages/scipy/optimize/_trustregion_constr/minimize_trustregion_constr.py\u001b[0m in \u001b[0;36m<module>\u001b[0;34m\u001b[0m\n\u001b[1;32m      3\u001b[0m \u001b[0;32mfrom\u001b[0m \u001b[0mscipy\u001b[0m\u001b[0;34m.\u001b[0m\u001b[0msparse\u001b[0m\u001b[0;34m.\u001b[0m\u001b[0mlinalg\u001b[0m \u001b[0;32mimport\u001b[0m \u001b[0mLinearOperator\u001b[0m\u001b[0;34m\u001b[0m\u001b[0;34m\u001b[0m\u001b[0m\n\u001b[1;32m      4\u001b[0m \u001b[0;32mfrom\u001b[0m \u001b[0;34m.\u001b[0m\u001b[0;34m.\u001b[0m\u001b[0m_differentiable_functions\u001b[0m \u001b[0;32mimport\u001b[0m \u001b[0mVectorFunction\u001b[0m\u001b[0;34m\u001b[0m\u001b[0;34m\u001b[0m\u001b[0m\n\u001b[0;32m----> 5\u001b[0;31m from .._constraints import (\n\u001b[0m\u001b[1;32m      6\u001b[0m     NonlinearConstraint, LinearConstraint, PreparedConstraint, strict_bounds)\n\u001b[1;32m      7\u001b[0m \u001b[0;32mfrom\u001b[0m \u001b[0;34m.\u001b[0m\u001b[0;34m.\u001b[0m\u001b[0m_hessian_update_strategy\u001b[0m \u001b[0;32mimport\u001b[0m \u001b[0mBFGS\u001b[0m\u001b[0;34m\u001b[0m\u001b[0;34m\u001b[0m\u001b[0m\n",
            "\u001b[0;32m/usr/local/lib/python3.10/dist-packages/scipy/optimize/_constraints.py\u001b[0m in \u001b[0;36m<module>\u001b[0;34m\u001b[0m\n\u001b[1;32m      6\u001b[0m \u001b[0;32mfrom\u001b[0m \u001b[0;34m.\u001b[0m\u001b[0m_optimize\u001b[0m \u001b[0;32mimport\u001b[0m \u001b[0mOptimizeWarning\u001b[0m\u001b[0;34m\u001b[0m\u001b[0;34m\u001b[0m\u001b[0m\n\u001b[1;32m      7\u001b[0m \u001b[0;32mfrom\u001b[0m \u001b[0mwarnings\u001b[0m \u001b[0;32mimport\u001b[0m \u001b[0mwarn\u001b[0m\u001b[0;34m,\u001b[0m \u001b[0mcatch_warnings\u001b[0m\u001b[0;34m,\u001b[0m \u001b[0msimplefilter\u001b[0m\u001b[0;34m\u001b[0m\u001b[0;34m\u001b[0m\u001b[0m\n\u001b[0;32m----> 8\u001b[0;31m \u001b[0;32mfrom\u001b[0m \u001b[0mnumpy\u001b[0m\u001b[0;34m.\u001b[0m\u001b[0mtesting\u001b[0m \u001b[0;32mimport\u001b[0m \u001b[0msuppress_warnings\u001b[0m\u001b[0;34m\u001b[0m\u001b[0;34m\u001b[0m\u001b[0m\n\u001b[0m\u001b[1;32m      9\u001b[0m \u001b[0;32mfrom\u001b[0m \u001b[0mscipy\u001b[0m\u001b[0;34m.\u001b[0m\u001b[0msparse\u001b[0m \u001b[0;32mimport\u001b[0m \u001b[0missparse\u001b[0m\u001b[0;34m\u001b[0m\u001b[0;34m\u001b[0m\u001b[0m\n\u001b[1;32m     10\u001b[0m \u001b[0;34m\u001b[0m\u001b[0m\n",
            "\u001b[0;32m/usr/local/lib/python3.10/dist-packages/numpy/testing/__init__.py\u001b[0m in \u001b[0;36m<module>\u001b[0;34m\u001b[0m\n\u001b[1;32m      8\u001b[0m \u001b[0;32mfrom\u001b[0m \u001b[0munittest\u001b[0m \u001b[0;32mimport\u001b[0m \u001b[0mTestCase\u001b[0m\u001b[0;34m\u001b[0m\u001b[0;34m\u001b[0m\u001b[0m\n\u001b[1;32m      9\u001b[0m \u001b[0;34m\u001b[0m\u001b[0m\n\u001b[0;32m---> 10\u001b[0;31m \u001b[0;32mfrom\u001b[0m \u001b[0;34m.\u001b[0m\u001b[0m_private\u001b[0m\u001b[0;34m.\u001b[0m\u001b[0mutils\u001b[0m \u001b[0;32mimport\u001b[0m \u001b[0;34m*\u001b[0m\u001b[0;34m\u001b[0m\u001b[0;34m\u001b[0m\u001b[0m\n\u001b[0m\u001b[1;32m     11\u001b[0m \u001b[0;32mfrom\u001b[0m \u001b[0;34m.\u001b[0m\u001b[0m_private\u001b[0m\u001b[0;34m.\u001b[0m\u001b[0mutils\u001b[0m \u001b[0;32mimport\u001b[0m \u001b[0;34m(\u001b[0m\u001b[0m_assert_valid_refcount\u001b[0m\u001b[0;34m,\u001b[0m \u001b[0m_gen_alignment_data\u001b[0m\u001b[0;34m)\u001b[0m\u001b[0;34m\u001b[0m\u001b[0;34m\u001b[0m\u001b[0m\n\u001b[1;32m     12\u001b[0m \u001b[0;32mfrom\u001b[0m \u001b[0;34m.\u001b[0m\u001b[0m_private\u001b[0m \u001b[0;32mimport\u001b[0m \u001b[0mextbuild\u001b[0m\u001b[0;34m,\u001b[0m \u001b[0mdecorators\u001b[0m \u001b[0;32mas\u001b[0m \u001b[0mdec\u001b[0m\u001b[0;34m\u001b[0m\u001b[0;34m\u001b[0m\u001b[0m\n",
            "\u001b[0;32m/usr/local/lib/python3.10/dist-packages/numpy/testing/_private/utils.py\u001b[0m in \u001b[0;36m<module>\u001b[0;34m\u001b[0m\n\u001b[1;32m     21\u001b[0m from numpy.core import(\n\u001b[1;32m     22\u001b[0m      intp, float32, empty, arange, array_repr, ndarray, isnat, array)\n\u001b[0;32m---> 23\u001b[0;31m \u001b[0;32mimport\u001b[0m \u001b[0mnumpy\u001b[0m\u001b[0;34m.\u001b[0m\u001b[0mlinalg\u001b[0m\u001b[0;34m.\u001b[0m\u001b[0mlapack_lite\u001b[0m\u001b[0;34m\u001b[0m\u001b[0;34m\u001b[0m\u001b[0m\n\u001b[0m\u001b[1;32m     24\u001b[0m \u001b[0;34m\u001b[0m\u001b[0m\n\u001b[1;32m     25\u001b[0m \u001b[0;32mfrom\u001b[0m \u001b[0mio\u001b[0m \u001b[0;32mimport\u001b[0m \u001b[0mStringIO\u001b[0m\u001b[0;34m\u001b[0m\u001b[0;34m\u001b[0m\u001b[0m\n",
            "\u001b[0;31mImportError\u001b[0m: numpy.core.multiarray failed to import",
            "",
            "\u001b[0;31m---------------------------------------------------------------------------\u001b[0;32m\nNOTE: If your import is failing due to a missing package, you can\nmanually install dependencies using either !pip or !apt.\n\nTo view examples of installing some common dependencies, click the\n\"Open Examples\" button below.\n\u001b[0;31m---------------------------------------------------------------------------\u001b[0m\n"
          ],
          "errorDetails": {
            "actions": [
              {
                "action": "open_url",
                "actionText": "Open Examples",
                "url": "/notebooks/snippets/importing_libraries.ipynb"
              }
            ]
          }
        }
      ]
    },
    {
      "cell_type": "code",
      "source": [
        "configs = config_util.get_configs_from_pipeline_file(CONFIG_PATH)\n",
        "detection_model = model_builder.build(model_config=configs['model'], is_training=False)\n",
        "\n",
        "# Restore checkpoint\n",
        "ckpt = tf.compat.v2.train.Checkpoint(model=detection_model)\n",
        "ckpt.restore(os.path.join(CHECKPOINT_PATH, 'ckpt-6')).expect_partial()\n",
        "\n",
        "@tf.function\n",
        "def detect_fn(image):\n",
        "    image, shapes = detection_model.preprocess(image)\n",
        "    prediction_dict = detection_model.predict(image, shapes)\n",
        "    detections = detection_model.postprocess(prediction_dict, shapes)\n",
        "    return detections"
      ],
      "metadata": {
        "id": "zG3t-Qm_Mebk"
      },
      "execution_count": null,
      "outputs": []
    }
  ]
}